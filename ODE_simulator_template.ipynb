{
  "cells": [
    {
      "cell_type": "markdown",
      "metadata": {
        "id": "view-in-github",
        "colab_type": "text"
      },
      "source": [
        "<a href=\"https://colab.research.google.com/github/Amritha07dec/MCN/blob/sample_generation/ODE_simulator_template.ipynb\" target=\"_parent\"><img src=\"https://colab.research.google.com/assets/colab-badge.svg\" alt=\"Open In Colab\"/></a>"
      ]
    },
    {
      "cell_type": "code",
      "source": [
        "#Clone the forked repository\n",
        "!git clone https://github.com/Amritha07dec/MCN.git\n",
        "%cd MCN"
      ],
      "metadata": {
        "colab": {
          "base_uri": "https://localhost:8080/"
        },
        "id": "8McaII8obUTF",
        "outputId": "5b094675-2eac-4d5c-c7e9-b9d366b806ce"
      },
      "id": "8McaII8obUTF",
      "execution_count": 1,
      "outputs": [
        {
          "output_type": "stream",
          "name": "stdout",
          "text": [
            "Cloning into 'MCN'...\n",
            "remote: Enumerating objects: 49, done.\u001b[K\n",
            "remote: Counting objects: 100% (49/49), done.\u001b[K\n",
            "remote: Compressing objects: 100% (44/44), done.\u001b[K\n",
            "remote: Total 49 (delta 19), reused 18 (delta 3), pack-reused 0 (from 0)\u001b[K\n",
            "Receiving objects: 100% (49/49), 32.49 MiB | 5.57 MiB/s, done.\n",
            "Resolving deltas: 100% (19/19), done.\n",
            "/content/MCN\n"
          ]
        }
      ]
    },
    {
      "cell_type": "markdown",
      "id": "2b2c85a1-e383-4646-8b99-4ce6d6a99dc2",
      "metadata": {
        "id": "2b2c85a1-e383-4646-8b99-4ce6d6a99dc2"
      },
      "source": [
        "# ODE simulator"
      ]
    },
    {
      "cell_type": "markdown",
      "id": "37dc0736-a950-495f-bd73-e6a1061a750d",
      "metadata": {
        "id": "37dc0736-a950-495f-bd73-e6a1061a750d"
      },
      "source": [
        "## Importing dependencies"
      ]
    },
    {
      "cell_type": "code",
      "execution_count": 2,
      "id": "bbaa7e68-1077-4d99-94b2-c0dc4c022348",
      "metadata": {
        "id": "bbaa7e68-1077-4d99-94b2-c0dc4c022348"
      },
      "outputs": [],
      "source": [
        "import numpy as np\n",
        "import matplotlib.pyplot as plt\n",
        "from mpl_toolkits.mplot3d import Axes3D\n",
        "import yaml\n",
        "\n",
        "from scipy.integrate import solve_ivp\n",
        "\n",
        "\n"
      ]
    },
    {
      "cell_type": "markdown",
      "id": "5c019f6c-0fec-4a07-b40c-bddf59ecd73d",
      "metadata": {
        "id": "5c019f6c-0fec-4a07-b40c-bddf59ecd73d"
      },
      "source": [
        "## Code for simulation with a generic ODE RHS"
      ]
    },
    {
      "cell_type": "code",
      "execution_count": 3,
      "id": "0880aa1f-26fe-4792-a499-8812e4c7ea67",
      "metadata": {
        "id": "0880aa1f-26fe-4792-a499-8812e4c7ea67"
      },
      "outputs": [],
      "source": [
        "def simulate_ode_system(rhs_func, t_span, y0, params, solver='RK45', t_eval=None):\n",
        "    \"\"\"\n",
        "    Simulate the ODE system.\n",
        "\n",
        "    Parameters:\n",
        "    - rhs_func: The right-hand side of the ODE as a function of (t, y, params).\n",
        "    - t_span: Tuple (t_0, t_final), the time span for the simulation.\n",
        "    - y0: Initial conditions as an array.\n",
        "    - params: Parameters required by the rhs_func.\n",
        "    - solver: The ODE solver method ('RK45', 'RK23', 'DOP853', 'LSODA', etc.).\n",
        "    - t_eval: Array of time points at which to store the solution.\n",
        "\n",
        "    Returns:\n",
        "    - sol: Solution object containing times and states.\n",
        "    \"\"\"\n",
        "    # Define the ODE system as a lambda function to pass the parameters\n",
        "    def ode_func(t, y):\n",
        "        return rhs_func(t, y, params)\n",
        "\n",
        "    # Solve the ODE system\n",
        "    sol = solve_ivp(ode_func, t_span, y0, method=solver, t_eval=t_eval)\n",
        "\n",
        "    return sol\n",
        "\n",
        "\n",
        "# Updated phase space plot function\n",
        "def plot_phase_space(sol, state_indices=(0, 1, 2)):\n",
        "    \"\"\"\n",
        "    Plots the phase space of the solution. Automatically switches to 3D if there are more than two states.\n",
        "\n",
        "    Args:\n",
        "    sol: Solution object from the ODE solver (such as the one returned by scipy's solve_ivp).\n",
        "    state_indices: Tuple specifying which state variables to plot (default is (0, 1)).\n",
        "                   For a 3D plot, pass 3 indices, for example (0, 1, 2).\n",
        "    \"\"\"\n",
        "    y = sol.y\n",
        "    num_states = y.shape[0]\n",
        "\n",
        "    # 2D phase space\n",
        "    if num_states == 2 or len(state_indices) ==2:\n",
        "        plt.figure(figsize=(8, 6))\n",
        "        plt.plot(y[state_indices[0]], y[state_indices[1]], lw=0.8)\n",
        "        plt.xlabel(f\"State {state_indices[0]}\")\n",
        "        plt.ylabel(f\"State {state_indices[1]}\")\n",
        "        plt.title(\"2D Phase Space\")\n",
        "        plt.grid(True)\n",
        "        plt.show()\n",
        "\n",
        "    # 3D phase space if the system has more than two states\n",
        "    elif len(state_indices) == 3 and num_states >= 3:\n",
        "        fig = plt.figure(figsize=(10, 8))\n",
        "        ax = fig.add_subplot(111, projection='3d')\n",
        "        ax.plot(y[state_indices[0]], y[state_indices[1]], y[state_indices[2]], lw=0.8)\n",
        "        ax.set_xlabel(f\"State {state_indices[0]}\")\n",
        "        ax.set_ylabel(f\"State {state_indices[1]}\")\n",
        "        ax.set_zlabel(f\"State {state_indices[2]}\")\n",
        "        ax.set_title(\"3D Phase Space\")\n",
        "        plt.show()\n",
        "\n",
        "    else:\n",
        "        print(\"State indices must be 2 or 3 for phase space plotting.\")\n",
        "def plot_trajectories(sol):\n",
        "    \"\"\"\n",
        "    Plot the trajectories of all state variables over time.\n",
        "\n",
        "    Parameters:\n",
        "    - sol: Solution object from solve_ivp.\n",
        "    \"\"\"\n",
        "    plt.figure(figsize=(8, 6))\n",
        "    for i in range(sol.y.shape[0]):\n",
        "        plt.plot(sol.t, sol.y[i], label=f'State {i}')\n",
        "    plt.xlabel('Time')\n",
        "    plt.ylabel('State Variables')\n",
        "    plt.title('State Variables Over Time')\n",
        "    plt.legend()\n",
        "    plt.grid(True)\n",
        "    plt.show()\n",
        "\n",
        "\n"
      ]
    },
    {
      "cell_type": "markdown",
      "id": "62cf84e6-7dc5-4a82-a7ca-e9d736da8917",
      "metadata": {
        "id": "62cf84e6-7dc5-4a82-a7ca-e9d736da8917"
      },
      "source": [
        "## Demo of simulating a system from the model dictionary"
      ]
    },
    {
      "cell_type": "code",
      "execution_count": 4,
      "id": "d3cb3ed0-c796-4bbe-ba98-af62c2ab6e96",
      "metadata": {
        "id": "d3cb3ed0-c796-4bbe-ba98-af62c2ab6e96"
      },
      "outputs": [],
      "source": [
        "# importing models dictionary\n",
        "from ode_models_dictionary import ode_systems"
      ]
    },
    {
      "cell_type": "code",
      "execution_count": null,
      "id": "10eeb15c-077e-4460-a01b-bb4d61a2f987",
      "metadata": {
        "id": "10eeb15c-077e-4460-a01b-bb4d61a2f987"
      },
      "outputs": [],
      "source": [
        "# Example of how to access the rhs function and parameters_and_IC for the Lorenz system\n",
        "#system_name = 'Damped_Oscilllator'\n",
        "#system_name = 'Lorenz'                             #DCF=('Poly', 2, 0)\n",
        "#system_name = 'Van_der_Pol'                        #DCF=('Poly', 3, 0)\n",
        "#system_name = 'Lorenz96'                           #DCF=('Poly', 2, 0)\n",
        "#system_name = 'Rossler'                            #DCF=('Poly', 2, 0)\n",
        "#system_name = 'Linear_1D'                          #DCF=('Poly', 1, 0)\n",
        "#system_name = 'Linear_2D_Harmonic_Oscillator'      #DCF=('Poly', 1, 0)\n",
        "#system_name = 'Linear_3D_Coupled_Oscillators'      #DCF=('Poly', 1, 0)\n",
        "#system_name = 'Linear_4D_Coupled_Oscillators'      #DCF=('Poly', 1, 0)\n",
        "#system_name = 'Linear_5D_Coupled_Oscillators'      #DCF=('Poly', 1, 0)\n",
        "#system_name = 'Duffing_Oscillator'                 #DCF=('Poly', 3, 0)\n",
        "#system_name = 'Quartic_Oscillator'                 #DCF=('Poly', 4, 0)\n",
        "#system_name = 'Lotka_Volterra_Cubic'               #DCF=('Poly', 3, 0)\n",
        "import os\n",
        "import pickle\n",
        "import glob\n",
        "\n",
        "# Counter for the number of samples generated\n",
        "sample_count = 0\n",
        "\n",
        "\n",
        "# Perturbation factors\n",
        "perturbation_factors = [-0.25, 0.0, 0.25, -0.5, 0.5, -1, 1, -1.25, 1.25, -1.5, 1.5, -1.75, 1.75, -2, 2]  # Original, +25%, -25%\n",
        "\n",
        "# **LOOP OVER ALL SYSTEMS AND PARAMETER SETS**\n",
        "for system_name, system_data in ode_systems.items():\n",
        "    rhs_func = system_data['rhs_function']\n",
        "    parameters_and_IC = system_data['parameters_and_IC']\n",
        "    degree = system_data['DCF_values']\n",
        "#rhs_func = ode_systems[system_name]['rhs_function']\n",
        "#parameters_and_IC = ode_systems[system_name]['parameters_and_IC']\n",
        "\n",
        "# Accessing a specific pair of parameters and initial conditions for the selected system\n",
        "#param_IC_index = 0\n",
        "\n",
        "\n",
        "\n",
        "#params = parameters_and_IC[param_IC_index][0]  # Parameter values\n",
        "#initial_conditions = parameters_and_IC[param_IC_index][1]  # Initial conditions\n",
        "#description = parameters_and_IC[param_IC_index][2]  # Behavior description\n",
        "\n",
        "#print(f\"Simulating {system_name} system with parameters: {params}\")\n",
        "#print(f\"Initial conditions: {initial_conditions}\")\n",
        "#print(f\"Expected behavior: {description}\")\n",
        "\n",
        "\n",
        "\n",
        "    for idx, (params, initial_conditions, description) in enumerate(parameters_and_IC):\n",
        "        for factor in perturbation_factors:\n",
        "            perturbed_ic = [ic + factor * ic for ic in initial_conditions]\n",
        "            print(f\"\\nSimulating {system_name} (Set {idx + 1})with perturbation factor {factor}\")\n",
        "            print(f\"Parameters: {params}\")\n",
        "            print(f\"Initial conditions: {perturbed_ic}\")\n",
        "            print(f\"Expected behavior: {description}\")\n",
        "\n",
        "\n",
        "\n",
        "         # Solve the system\n",
        "            t_span = (0, 20)\n",
        "            t_eval = np.linspace(t_span[0], t_span[1], 10000)\n",
        "            sol = simulate_ode_system(rhs_func, t_span, perturbed_ic, params, solver='RK45', t_eval=t_eval)\n",
        "\n",
        "        # Plot results\n",
        "        #plot_phase_space(sol)\n",
        "            plot_trajectories(sol)\n",
        "\n",
        "# Simulating the Lorenz system with first set of parameters and initial conditions\n",
        "#t_span = (0, 20)\n",
        "#t_eval = np.linspace(t_span[0], t_span[1], 10000)\n",
        "\n",
        "#sol = simulate_ode_system(rhs_func, t_span, initial_conditions, params, solver='RK45', t_eval=t_eval)\n",
        "\n",
        "# Plot phase space and trajectories\n",
        "#plot_phase_space(sol)\n",
        "#plot_trajectories(sol)\n",
        "\n",
        "\n",
        "\n",
        "        # Save as pickle file\n",
        "            time_series_sample = {\n",
        "            \"Time series\": sol,\n",
        "            \"degree\": degree\n",
        "        }\n",
        "\n",
        "\n",
        "        # Define the folder name for pickle file (generated sample)\n",
        "            folder_name = \"pickle_files\"\n",
        "        # Create the folder if it doesn't exist\n",
        "            if not os.path.exists(folder_name):\n",
        "                os.makedirs(folder_name)\n",
        "\n",
        "        # Convert lists to strings for filenames\n",
        "            degree_str = \"_\".join(map(str, degree))\n",
        "            params_str = \"_\".join(map(str, params))\n",
        "            ic_str = \"_\".join(map(str, perturbed_ic))\n",
        "\n",
        "        # Store the relevant details in the file name\n",
        "            file_name = os.path.join(folder_name, f\"{system_name}_Set-{idx + 1}_Deg-{degree_str}_Params-{params_str}_IC-{ic_str}.pkl\")\n",
        " # Save the pickle file in the folder\n",
        "            with open(file_name, \"wb\") as f:\n",
        "                pickle.dump(time_series_sample, f)\n",
        "\n",
        "            print(f\"Pickle file saved at: {file_name}\")\n",
        "\n",
        "        # Increment sample counter\n",
        "            sample_count += 1\n",
        "\n",
        "\n",
        "\n",
        "# List all saved pickle files\n",
        "#pickle_files = glob.glob(f\"{folder_name}/*.pkl\")\n",
        "#print(\"\\nAll saved pickle files:\")\n",
        "#print(\"\\n\".join(pickle_files))\n",
        "\n",
        "#List All Pickle Files in the Folder\n",
        "\n",
        "import glob\n",
        "\n",
        "# Get all .pkl files inside the folder\n",
        "pickle_files = glob.glob(f\"{folder_name}/*.pkl\")\n",
        "\n",
        "\n",
        "\n",
        "\n",
        "\n"
      ]
    },
    {
      "cell_type": "code",
      "source": [
        "# Print file names\n",
        "print(\"Saved pickle files:\")\n",
        "for file in pickle_files:\n",
        "    print(file)\n",
        "# Print total count of generated samples\n",
        "print(f\"\\nTotal number of samples generated and saved: {sample_count}\")"
      ],
      "metadata": {
        "id": "Bkkaful-cxea"
      },
      "id": "Bkkaful-cxea",
      "execution_count": null,
      "outputs": []
    },
    {
      "cell_type": "markdown",
      "source": [],
      "metadata": {
        "id": "9GEEXfvxdUJf"
      },
      "id": "9GEEXfvxdUJf"
    },
    {
      "cell_type": "code",
      "execution_count": 7,
      "id": "813bc212-00c8-4b75-bb08-629884a40f5a",
      "metadata": {
        "id": "813bc212-00c8-4b75-bb08-629884a40f5a",
        "outputId": "0f9c959f-15f3-404f-c672-f34f0a413d25",
        "colab": {
          "base_uri": "https://localhost:8080/",
          "height": 17
        }
      },
      "outputs": [
        {
          "output_type": "display_data",
          "data": {
            "text/plain": [
              "<IPython.core.display.Javascript object>"
            ],
            "application/javascript": [
              "\n",
              "    async function download(id, filename, size) {\n",
              "      if (!google.colab.kernel.accessAllowed) {\n",
              "        return;\n",
              "      }\n",
              "      const div = document.createElement('div');\n",
              "      const label = document.createElement('label');\n",
              "      label.textContent = `Downloading \"${filename}\": `;\n",
              "      div.appendChild(label);\n",
              "      const progress = document.createElement('progress');\n",
              "      progress.max = size;\n",
              "      div.appendChild(progress);\n",
              "      document.body.appendChild(div);\n",
              "\n",
              "      const buffers = [];\n",
              "      let downloaded = 0;\n",
              "\n",
              "      const channel = await google.colab.kernel.comms.open(id);\n",
              "      // Send a message to notify the kernel that we're ready.\n",
              "      channel.send({})\n",
              "\n",
              "      for await (const message of channel.messages) {\n",
              "        // Send a message to notify the kernel that we're ready.\n",
              "        channel.send({})\n",
              "        if (message.buffers) {\n",
              "          for (const buffer of message.buffers) {\n",
              "            buffers.push(buffer);\n",
              "            downloaded += buffer.byteLength;\n",
              "            progress.value = downloaded;\n",
              "          }\n",
              "        }\n",
              "      }\n",
              "      const blob = new Blob(buffers, {type: 'application/binary'});\n",
              "      const a = document.createElement('a');\n",
              "      a.href = window.URL.createObjectURL(blob);\n",
              "      a.download = filename;\n",
              "      div.appendChild(a);\n",
              "      a.click();\n",
              "      div.remove();\n",
              "    }\n",
              "  "
            ]
          },
          "metadata": {}
        },
        {
          "output_type": "display_data",
          "data": {
            "text/plain": [
              "<IPython.core.display.Javascript object>"
            ],
            "application/javascript": [
              "download(\"download_dd519065-de63-42a7-b355-3f9abc857e01\", \"ode_simulations.zip\", 100415925)"
            ]
          },
          "metadata": {}
        }
      ],
      "source": [
        "#Run this To download the entire folder as a ZIP file:\n",
        "\n",
        "#import shutil\n",
        "#shutil.make_archive('ode_simulations', 'zip', folder_name)\n",
        "#from google.colab import files\n",
        "#files.download(f\"{'ode_simulations'}.zip\")\n"
      ]
    }
  ],
  "metadata": {
    "kernelspec": {
      "display_name": "Python 3 (ipykernel)",
      "language": "python",
      "name": "python3"
    },
    "language_info": {
      "codemirror_mode": {
        "name": "ipython",
        "version": 3
      },
      "file_extension": ".py",
      "mimetype": "text/x-python",
      "name": "python",
      "nbconvert_exporter": "python",
      "pygments_lexer": "ipython3",
      "version": "3.12.3"
    },
    "colab": {
      "provenance": [],
      "include_colab_link": true
    }
  },
  "nbformat": 4,
  "nbformat_minor": 5
}