{
  "nbformat": 4,
  "nbformat_minor": 0,
  "metadata": {
    "colab": {
      "provenance": [],
      "authorship_tag": "ABX9TyPDpGc5VuHFFBsAvTg4xgHr",
      "include_colab_link": true
    },
    "kernelspec": {
      "name": "python3",
      "display_name": "Python 3"
    },
    "language_info": {
      "name": "python"
    }
  },
  "cells": [
    {
      "cell_type": "markdown",
      "metadata": {
        "id": "view-in-github",
        "colab_type": "text"
      },
      "source": [
        "<a href=\"https://colab.research.google.com/github/Amritha07dec/MCN/blob/main/Neural_Network_LSTM.ipynb\" target=\"_parent\"><img src=\"https://colab.research.google.com/assets/colab-badge.svg\" alt=\"Open In Colab\"/></a>"
      ]
    },
    {
      "cell_type": "code",
      "source": [
        "#import torch\n",
        "#import torch.nn as nn\n",
        "#from torch.utils.data import Dataset, DataLoader\n",
        "#import numpy as np\n",
        "\n",
        "# Step 1: Padding function\n",
        "\n",
        "#def pad_samples(raw_samples, target_dim=6):\n",
        "#    padded = []\n",
        "#    for ts in raw_samples:\n",
        "#        pad_width = target_dim - ts.shape[1]\n",
        "#        if pad_width > 0:\n",
        "#            ts = np.pad(ts, ((0, 0), (0, pad_width)), mode='constant')\n",
        "#        padded.append(ts)\n",
        "#    return np.array(padded)\n",
        "\n",
        "# Step 2: Dataset class\n",
        "\n",
        "#class TimeSeriesDataset(Dataset):\n",
        "#    def __init__(self, samples, labels):\n",
        "#        self.samples = torch.tensor(samples, dtype=torch.float32)\n",
        "#        self.labels = torch.tensor(labels, dtype=torch.long)\n",
        "\n",
        "#    def __len__(self):\n",
        "#        return len(self.samples)\n",
        "\n",
        "#    def __getitem__(self, idx):\n",
        "#        return self.samples[idx], self.labels[idx]\n",
        "\n",
        "# Step 3: LSTM model\n",
        "\n",
        "\n",
        "#class LSTMClassifier(nn.Module):\n",
        "#    def __init__(self, input_size=6, hidden_size=64, num_layers=1, num_classes=4):\n",
        "#        super(LSTMClassifier, self).__init__()\n",
        "#        self.lstm = nn.LSTM(input_size, hidden_size, num_layers, batch_first=True)\n",
        "#        self.fc = nn.Linear(hidden_size, num_classes)\n",
        "\n",
        "#    def forward(self, x):\n",
        "#        _, (h_n, _) = self.lstm(x)\n",
        "#        out = self.fc(h_n[-1])\n",
        "#        return out\n",
        "\n",
        "# Step 4: Training loop\n",
        "\n",
        "\n",
        "#def train(model, dataloader, criterion, optimizer, epochs=10):\n",
        "#    model.train()\n",
        "#    for epoch in range(epochs):\n",
        "#        total_loss = 0.0\n",
        "#        correct = 0\n",
        "#       total = 0\n",
        "\n",
        "#        for inputs, targets in dataloader:\n",
        "#            optimizer.zero_grad()\n",
        "#            outputs = model(inputs)\n",
        "#            loss = criterion(outputs, targets)\n",
        "#            loss.backward()\n",
        "#            optimizer.step()\n",
        "\n",
        "#            total_loss += loss.item()\n",
        "#            _, predicted = torch.max(outputs, 1)\n",
        "#            correct += (predicted == targets).sum().item()\n",
        "#            total += targets.size(0)\n",
        "#\n",
        "#        acc = 100 * correct / total\n",
        "#        print(f\"Epoch {epoch+1}/{epochs} | Loss: {total_loss:.4f} | Accuracy: {acc:.2f}%\")\n"
      ],
      "metadata": {
        "id": "fXww3Ijg-7bH"
      },
      "execution_count": 1,
      "outputs": []
    },
    {
      "cell_type": "code",
      "source": [
        "import torch\n",
        "import torch.nn as nn\n",
        "from torch.utils.data import Dataset, DataLoader\n",
        "import numpy as np\n",
        "\n",
        "from sklearn.model_selection import train_test_split\n",
        "from sklearn.metrics import confusion_matrix\n",
        "import matplotlib.pyplot as plt\n",
        "import seaborn as sns\n",
        "\n",
        "# Step 1: Padding function\n",
        "def pad_samples(raw_samples, target_dim=6):\n",
        "    padded = []\n",
        "    for ts in raw_samples:\n",
        "        pad_width = target_dim - ts.shape[1]\n",
        "        if pad_width > 0:\n",
        "            ts = np.pad(ts, ((0, 0), (0, pad_width)), mode='constant')\n",
        "        padded.append(ts)\n",
        "    return np.array(padded)\n",
        "\n",
        "# Step 2: Dataset class\n",
        "class TimeSeriesDataset(Dataset):\n",
        "    def __init__(self, samples, labels):\n",
        "        self.samples = torch.tensor(samples, dtype=torch.float32)\n",
        "        self.labels = torch.tensor(labels, dtype=torch.long)\n",
        "\n",
        "    def __len__(self):\n",
        "        return len(self.samples)\n",
        "\n",
        "    def __getitem__(self, idx):\n",
        "        return self.samples[idx], self.labels[idx]\n",
        "\n",
        "# Step 3: LSTM model\n",
        "class LSTMClassifier(nn.Module):\n",
        "    def __init__(self, input_size=6, hidden_size=64, num_layers=1, num_classes=4):\n",
        "        super(LSTMClassifier, self).__init__()\n",
        "        self.lstm = nn.LSTM(input_size, hidden_size, num_layers, batch_first=True)\n",
        "        self.fc = nn.Linear(hidden_size, num_classes)\n",
        "\n",
        "    def forward(self, x):\n",
        "        _, (h_n, _) = self.lstm(x)\n",
        "        out = self.fc(h_n[-1])\n",
        "        return out\n",
        "\n",
        "# Step 4: Split the data into train and validation sets\n",
        "def split_data(samples, labels, test_size=0.2):\n",
        "    return train_test_split(samples, labels, test_size=test_size, random_state=42)\n",
        "\n",
        "# Step 5: Training loop\n",
        "def train(model, dataloader, val_loader, criterion, optimizer, epochs=10):\n",
        "    model.train()\n",
        "    for epoch in range(epochs):\n",
        "        total_loss = 0.0\n",
        "        correct = 0\n",
        "        total = 0\n",
        "\n",
        "        for inputs, targets in dataloader:\n",
        "            optimizer.zero_grad()\n",
        "            outputs = model(inputs)\n",
        "            loss = criterion(outputs, targets)\n",
        "            loss.backward()\n",
        "            optimizer.step()\n",
        "\n",
        "            total_loss += loss.item()\n",
        "            _, predicted = torch.max(outputs, 1)\n",
        "            correct += (predicted == targets).sum().item()\n",
        "            total += targets.size(0)\n",
        "\n",
        "        acc = 100 * correct / total\n",
        "        print(f\"Epoch {epoch+1}/{epochs} | Loss: {total_loss:.4f} | Accuracy: {acc:.2f}%\")\n",
        "\n",
        "         # Validation phase\n",
        "        val_loss, val_acc = validate(model, val_loader, criterion)\n",
        "        print(f\"Validation Loss: {val_loss:.4f} | Validation Accuracy: {val_acc:.2f}%\")\n",
        "\n",
        "# Step 6: Validation loop\n",
        "def validate(model, val_loader, criterion):\n",
        "    model.eval()\n",
        "    total_loss = 0.0\n",
        "    correct = 0\n",
        "    total = 0\n",
        "\n",
        "    with torch.no_grad():\n",
        "        for inputs, targets in val_loader:\n",
        "            outputs = model(inputs)\n",
        "            loss = criterion(outputs, targets)\n",
        "            total_loss += loss.item()\n",
        "            _, predicted = torch.max(outputs, 1)\n",
        "            correct += (predicted == targets).sum().item()\n",
        "            total += targets.size(0)\n",
        "\n",
        "    accuracy = 100 * correct / total\n",
        "    return total_loss / len(val_loader), accuracy\n",
        "\n",
        "\n",
        "# Step 7: Plot confusion matrix\n",
        "def plot_confusion_matrix(model, dataloader):\n",
        "    all_preds = []\n",
        "    all_labels = []\n",
        "\n",
        "    model.eval()\n",
        "    with torch.no_grad():\n",
        "        for inputs, targets in dataloader:\n",
        "            outputs = model(inputs)\n",
        "            _, predicted = torch.max(outputs, 1)\n",
        "            all_preds.extend(predicted.cpu().numpy())\n",
        "            all_labels.extend(targets.cpu().numpy())\n",
        "\n",
        "    cm = confusion_matrix(all_labels, all_preds)\n",
        "    plt.figure(figsize=(8, 6))\n",
        "    sns.heatmap(cm, annot=True, fmt=\"d\", cmap=\"Blues\", xticklabels=['Class 0', 'Class 1', 'Class 2', 'Class 3'], yticklabels=['Class 0', 'Class 1', 'Class 2', 'Class 3'])\n",
        "    plt.xlabel('Predicted')\n",
        "    plt.ylabel('Actual')\n",
        "    plt.title('Confusion Matrix')\n",
        "    plt.show()"
      ],
      "metadata": {
        "id": "7pyIq-qK0eg6"
      },
      "execution_count": 2,
      "outputs": []
    },
    {
      "cell_type": "code",
      "source": [
        "# 5. Simulate dummy data\n",
        "#np.random.seed(42)\n",
        "#torch.manual_seed(42)\n",
        "\n",
        "#raw_samples = [np.random.rand(10000, np.random.choice([2, 3, 4, 5, 6])) for _ in range(450)]\n",
        "#labels = np.random.randint(0, 4, size=(450,))\n",
        "\n",
        "#X = pad_samples(raw_samples, target_dim=6)\n",
        "\n",
        "#dataset = TimeSeriesDataset(X, labels)\n",
        "#dataloader = DataLoader(dataset, batch_size=16, shuffle=True)\n",
        "\n",
        "#model = LSTMClassifier(input_size=6)\n",
        "#criterion = nn.CrossEntropyLoss()\n",
        "#optimizer = torch.optim.Adam(model.parameters(), lr=0.001)\n",
        "\n",
        "#train(model, dataloader, criterion, optimizer, epochs=5)"
      ],
      "metadata": {
        "id": "40hUtBYSDrdv"
      },
      "execution_count": 3,
      "outputs": []
    },
    {
      "cell_type": "code",
      "source": [
        "from google.colab import drive\n",
        "drive.mount('/content/drive')\n"
      ],
      "metadata": {
        "colab": {
          "base_uri": "https://localhost:8080/"
        },
        "id": "QCxev9hGvdib",
        "outputId": "78eaa58b-f691-4de8-9f1f-031896e8383e"
      },
      "execution_count": 4,
      "outputs": [
        {
          "output_type": "stream",
          "name": "stdout",
          "text": [
            "Mounted at /content/drive\n"
          ]
        }
      ]
    },
    {
      "cell_type": "code",
      "source": [
        "import zipfile\n",
        "\n",
        "zip_path = '/content/drive/MyDrive/sample_generation/resample 476.zip'\n",
        "extract_folder = '/content/unzipped_ode_simulations'\n",
        "\n",
        "with zipfile.ZipFile(zip_path, 'r') as zip_ref:\n",
        "    zip_ref.extractall(extract_folder)\n"
      ],
      "metadata": {
        "id": "i5QxY8Wb_u_B"
      },
      "execution_count": 5,
      "outputs": []
    },
    {
      "cell_type": "code",
      "source": [
        "import os\n",
        "import pickle\n",
        "\n",
        "# Replace this with your actual folder path inside Google Drive\n",
        "folder_path = '/content/unzipped_ode_simulations'\n"
      ],
      "metadata": {
        "id": "g3rJqKBkzVzl"
      },
      "execution_count": 6,
      "outputs": []
    },
    {
      "cell_type": "code",
      "source": [
        "import os\n",
        "print(os.listdir(folder_path))\n"
      ],
      "metadata": {
        "colab": {
          "base_uri": "https://localhost:8080/"
        },
        "id": "FaD3MTkz-OVB",
        "outputId": "9d5eca88-6808-4602-c49c-d8288dbd1b43",
        "collapsed": true
      },
      "execution_count": 7,
      "outputs": [
        {
          "output_type": "stream",
          "name": "stdout",
          "text": [
            "['Linear_3D_Coupled_Oscillators_Set-2_Deg-1_Params-0.5_0.5_0.5_IC-3.0_3.0_3.0.pkl', 'Van_der_Pol_Set-4_Deg-3_Params-20.0_IC-0.05_0.05.pkl', 'Rossler_Set-2_Deg-2_Params-0.1_0.1_6.0_IC-1.5_1.5_1.5.pkl', 'Van_der_Pol_Set-1_Deg-3_Params-0.5_IC--1.0_0.0.pkl', 'Linear_5D_Coupled_Oscillators_Set-1_Deg-1_Params-1.0_1.0_1.0_1.0_1.0_IC-0.75_0.0_0.0_0.0_0.0.pkl', 'Van_der_Pol_Set-4_Deg-3_Params-20.0_IC-0.30000000000000004_0.30000000000000004.pkl', 'Linear_3D_Coupled_Oscillators_Set-1_Deg-1_Params-1.0_1.0_1.0_IC--0.75_0.0_0.0.pkl', 'Lorenz96_Set-2_Deg-2_Params-12.0_6_IC-3.0_1.5_1.5_1.5_3.0_0.0.pkl', 'Duffing_Oscillator_Set-2_Deg-3_Params-0.2_1.0_0.5_0.8_1.0_IC-1.375_0.0.pkl', 'Lotka_Volterra_Cubic_Set-1_Deg-3_Params-1.0_0.5_0.1_1.0_0.1_IC-1.0_2.0.pkl', 'Linear_4D_Coupled_Oscillators_Set-1_Deg-1_Params-1.0_1.0_1.0_1.0_IC-0.0_0.0_0.0_0.0.pkl', 'Linear_2D_Harmonic_Oscillator_Set-1_Deg-1_Params-1.0_IC-2.0_0.0.pkl', 'Linear_4D_Coupled_Oscillators_Set-1_Deg-1_Params-1.0_1.0_1.0_1.0_IC-2.25_0.0_0.0_0.0.pkl', 'Rossler_Set-1_Deg-2_Params-0.2_0.2_5.7_IC-3.0_3.0_3.0.pkl', 'Linear_2D_Harmonic_Oscillator_Set-1_Deg-1_Params-1.0_IC-1.75_0.0.pkl', 'Lorenz_Set-2_Deg-2_Params-10.0_15.0_2.6666666666666665_IC-0.5_0.5_0.5.pkl', 'Linear_4D_Coupled_Oscillators_Set-2_Deg-1_Params-0.0_0.5_0.5_0.5_IC--0.25_0.0_0.0_0.0.pkl', 'Quartic_Oscillator_Set-2_Deg-4_Params-1.0_1.0_IC--0.25_0.0.pkl', 'Van_der_Pol_Set-3_Deg-3_Params-10.0_IC-0.5_0.0.pkl', 'Linear_1D_Set-2_Deg-1_Params--0.5_IC-3.0.pkl', 'Lorenz_Set-1_Deg-2_Params-10.0_28.0_2.6666666666666665_IC--0.75_-0.75_-0.75.pkl', 'Quartic_Oscillator_Set-1_Deg-4_Params-1.0_0.5_IC-0.5_0.0.pkl', 'Linear_4D_Coupled_Oscillators_Set-1_Deg-1_Params-1.0_1.0_1.0_1.0_IC-0.25_0.0_0.0_0.0.pkl', 'Duffing_Oscillator_Set-1_Deg-3_Params-0.2_1.0_0.5_0.3_1.0_IC--0.5_0.0.pkl', 'Rossler_Set-3_Deg-2_Params-0.2_0.2_10.0_IC--0.75_0.0_0.0.pkl', 'Linear_3D_Coupled_Oscillators_Set-1_Deg-1_Params-1.0_1.0_1.0_IC-1.25_0.0_0.0.pkl', 'Linear_5D_Coupled_Oscillators_Set-1_Deg-1_Params-1.0_1.0_1.0_1.0_1.0_IC-0.0_0.0_0.0_0.0_0.0.pkl', 'Rossler_Set-2_Deg-2_Params-0.1_0.1_6.0_IC-1.25_1.25_1.25.pkl', 'Duffing_Oscillator_Set-2_Deg-3_Params-0.2_1.0_0.5_0.8_1.0_IC--0.125_0.0.pkl', 'Linear_3D_Coupled_Oscillators_Set-1_Deg-1_Params-1.0_1.0_1.0_IC-1.75_0.0_0.0.pkl', 'Van_der_Pol_Set-4_Deg-3_Params-20.0_IC-0.07500000000000001_0.07500000000000001.pkl', 'Rossler_Set-3_Deg-2_Params-0.2_0.2_10.0_IC-0.0_0.0_0.0.pkl', 'Linear_4D_Coupled_Oscillators_Set-2_Deg-1_Params-0.0_0.5_0.5_0.5_IC-1.25_0.0_0.0_0.0.pkl', 'Van_der_Pol_Set-3_Deg-3_Params-10.0_IC-6.0_0.0.pkl', 'Lorenz_Set-1_Deg-2_Params-10.0_28.0_2.6666666666666665_IC-1.75_1.75_1.75.pkl', 'Quartic_Oscillator_Set-2_Deg-4_Params-1.0_1.0_IC-1.125_0.0.pkl', 'Lorenz96_Set-2_Deg-2_Params-12.0_6_IC--0.25_-0.125_-0.125_-0.125_-0.25_0.0.pkl', 'Quartic_Oscillator_Set-2_Deg-4_Params-1.0_1.0_IC-0.125_0.0.pkl', 'Lotka_Volterra_Cubic_Set-2_Deg-3_Params-1.0_0.5_0.3_1.0_0.2_IC-1.0499999999999998_0.75.pkl', 'Linear_4D_Coupled_Oscillators_Set-1_Deg-1_Params-1.0_1.0_1.0_1.0_IC-0.75_0.0_0.0_0.0.pkl', 'Linear_1D_Set-2_Deg-1_Params--0.5_IC--0.5.pkl', 'Quartic_Oscillator_Set-2_Deg-4_Params-1.0_1.0_IC-0.875_0.0.pkl', 'Linear_4D_Coupled_Oscillators_Set-2_Deg-1_Params-0.0_0.5_0.5_0.5_IC--1.0_0.0_0.0_0.0.pkl', 'Linear_5D_Coupled_Oscillators_Set-2_Deg-1_Params-0.5_0.5_0.5_0.5_0.5_IC-1.75_192.5_192.5_17.5_-35.0.pkl', 'Linear_2D_Harmonic_Oscillator_Set-2_Deg-1_Params-0.25_IC-1.75_0.0.pkl', 'Linear_1D_Set-1_Deg-1_Params-0.5_IC--0.75.pkl', 'Van_der_Pol_Set-1_Deg-3_Params-0.5_IC--0.75_0.0.pkl', 'Lorenz_Set-3_Deg-2_Params-10.0_100.0_2.6666666666666665_IC--2.0_-2.0_-2.0.pkl', 'Linear_1D_Set-1_Deg-1_Params-0.5_IC-0.25.pkl', 'Lotka_Volterra_Cubic_Set-2_Deg-3_Params-1.0_0.5_0.3_1.0_0.2_IC--0.17500000000000004_-0.125.pkl', 'Linear_5D_Coupled_Oscillators_Set-2_Deg-1_Params-0.5_0.5_0.5_0.5_0.5_IC-0.5_55.0_55.0_5.0_-10.0.pkl', 'Linear_4D_Coupled_Oscillators_Set-2_Deg-1_Params-0.0_0.5_0.5_0.5_IC-3.0_0.0_0.0_0.0.pkl', 'Linear_2D_Harmonic_Oscillator_Set-2_Deg-1_Params-0.25_IC-0.0_0.0.pkl', 'Quartic_Oscillator_Set-1_Deg-4_Params-1.0_0.5_IC-2.5_0.0.pkl', 'Lorenz_Set-1_Deg-2_Params-10.0_28.0_2.6666666666666665_IC-1.5_1.5_1.5.pkl', 'Duffing_Oscillator_Set-2_Deg-3_Params-0.2_1.0_0.5_0.8_1.0_IC-0.875_0.0.pkl', 'Linear_3D_Coupled_Oscillators_Set-1_Deg-1_Params-1.0_1.0_1.0_IC-0.25_0.0_0.0.pkl', 'Lorenz96_Set-2_Deg-2_Params-12.0_6_IC-0.25_0.125_0.125_0.125_0.25_0.0.pkl', 'Lotka_Volterra_Cubic_Set-2_Deg-3_Params-1.0_0.5_0.3_1.0_0.2_IC--0.5249999999999999_-0.375.pkl', 'Linear_2D_Harmonic_Oscillator_Set-2_Deg-1_Params-0.25_IC-2.0_0.0.pkl', 'Linear_2D_Harmonic_Oscillator_Set-1_Deg-1_Params-1.0_IC--1.0_0.0.pkl', 'Linear_2D_Harmonic_Oscillator_Set-2_Deg-1_Params-0.25_IC--1.0_0.0.pkl', 'Linear_4D_Coupled_Oscillators_Set-1_Deg-1_Params-1.0_1.0_1.0_1.0_IC--1.0_0.0_0.0_0.0.pkl', 'Linear_1D_Set-1_Deg-1_Params-0.5_IC-2.25.pkl', 'Van_der_Pol_Set-3_Deg-3_Params-10.0_IC-2.0_0.0.pkl', 'Linear_2D_Harmonic_Oscillator_Set-1_Deg-1_Params-1.0_IC-3.0_0.0.pkl', 'Duffing_Oscillator_Set-2_Deg-3_Params-0.2_1.0_0.5_0.8_1.0_IC-0.125_0.0.pkl', 'Rossler_Set-3_Deg-2_Params-0.2_0.2_10.0_IC-2.5_0.0_0.0.pkl', 'Van_der_Pol_Set-2_Deg-3_Params-1.0_IC-0.0_0.0.pkl', 'Duffing_Oscillator_Set-2_Deg-3_Params-0.2_1.0_0.5_0.8_1.0_IC-1.125_0.0.pkl', 'Lorenz_Set-2_Deg-2_Params-10.0_15.0_2.6666666666666665_IC-0.625_0.625_0.625.pkl', 'Linear_2D_Harmonic_Oscillator_Set-2_Deg-1_Params-0.25_IC-2.25_0.0.pkl', 'Linear_3D_Coupled_Oscillators_Set-2_Deg-1_Params-0.5_0.5_0.5_IC-0.5_0.5_0.5.pkl', 'Rossler_Set-2_Deg-2_Params-0.1_0.1_6.0_IC-0.0_0.0_0.0.pkl', 'Linear_5D_Coupled_Oscillators_Set-1_Deg-1_Params-1.0_1.0_1.0_1.0_1.0_IC-2.75_0.0_0.0_0.0_0.0.pkl', 'Quartic_Oscillator_Set-1_Deg-4_Params-1.0_0.5_IC-1.25_0.0.pkl', 'Linear_2D_Harmonic_Oscillator_Set-2_Deg-1_Params-0.25_IC--0.75_0.0.pkl', 'Lorenz_Set-3_Deg-2_Params-10.0_100.0_2.6666666666666665_IC-3.5_3.5_3.5.pkl', 'Lorenz96_Set-2_Deg-2_Params-12.0_6_IC--0.5_-0.25_-0.25_-0.25_-0.5_0.0.pkl', 'Linear_2D_Harmonic_Oscillator_Set-2_Deg-1_Params-0.25_IC-1.5_0.0.pkl', 'Linear_4D_Coupled_Oscillators_Set-2_Deg-1_Params-0.0_0.5_0.5_0.5_IC-2.5_0.0_0.0_0.0.pkl', 'Linear_3D_Coupled_Oscillators_Set-2_Deg-1_Params-0.5_0.5_0.5_IC--0.25_-0.25_-0.25.pkl', 'Lorenz_Set-1_Deg-2_Params-10.0_28.0_2.6666666666666665_IC-0.75_0.75_0.75.pkl', 'Linear_3D_Coupled_Oscillators_Set-1_Deg-1_Params-1.0_1.0_1.0_IC-3.0_0.0_0.0.pkl', 'Quartic_Oscillator_Set-2_Deg-4_Params-1.0_1.0_IC-1.0_0.0.pkl', 'Rossler_Set-2_Deg-2_Params-0.1_0.1_6.0_IC-0.625_0.625_0.625.pkl', 'Linear_5D_Coupled_Oscillators_Set-1_Deg-1_Params-1.0_1.0_1.0_1.0_1.0_IC-0.5_0.0_0.0_0.0_0.0.pkl', 'Lorenz_Set-1_Deg-2_Params-10.0_28.0_2.6666666666666665_IC-0.5_0.5_0.5.pkl', 'Rossler_Set-2_Deg-2_Params-0.1_0.1_6.0_IC-1.125_1.125_1.125.pkl', 'Linear_2D_Harmonic_Oscillator_Set-1_Deg-1_Params-1.0_IC--0.5_0.0.pkl', 'Rossler_Set-1_Deg-2_Params-0.2_0.2_5.7_IC-1.0_1.0_1.0.pkl', 'Van_der_Pol_Set-3_Deg-3_Params-10.0_IC-4.5_0.0.pkl', 'Linear_5D_Coupled_Oscillators_Set-1_Deg-1_Params-1.0_1.0_1.0_1.0_1.0_IC--1.0_0.0_0.0_0.0_0.0.pkl', 'Linear_1D_Set-2_Deg-1_Params--0.5_IC-1.25.pkl', 'Rossler_Set-3_Deg-2_Params-0.2_0.2_10.0_IC-2.0_0.0_0.0.pkl', 'Van_der_Pol_Set-3_Deg-3_Params-10.0_IC-4.0_0.0.pkl', 'Van_der_Pol_Set-1_Deg-3_Params-0.5_IC-2.75_0.0.pkl', 'Linear_1D_Set-1_Deg-1_Params-0.5_IC-0.75.pkl', 'Van_der_Pol_Set-1_Deg-3_Params-0.5_IC-0.5_0.0.pkl', 'Lorenz_Set-3_Deg-2_Params-10.0_100.0_2.6666666666666665_IC-0.5_0.5_0.5.pkl', 'Quartic_Oscillator_Set-1_Deg-4_Params-1.0_0.5_IC-0.75_0.0.pkl', 'Linear_1D_Set-1_Deg-1_Params-0.5_IC-0.0.pkl', 'Duffing_Oscillator_Set-2_Deg-3_Params-0.2_1.0_0.5_0.8_1.0_IC--0.25_0.0.pkl', 'Linear_3D_Coupled_Oscillators_Set-2_Deg-1_Params-0.5_0.5_0.5_IC-1.0_1.0_1.0.pkl', 'Lorenz_Set-2_Deg-2_Params-10.0_15.0_2.6666666666666665_IC--0.25_-0.25_-0.25.pkl', 'Rossler_Set-1_Deg-2_Params-0.2_0.2_5.7_IC--0.5_-0.5_-0.5.pkl', 'Duffing_Oscillator_Set-1_Deg-3_Params-0.2_1.0_0.5_0.3_1.0_IC-0.5_0.0.pkl', 'Quartic_Oscillator_Set-2_Deg-4_Params-1.0_1.0_IC--0.5_0.0.pkl', 'Quartic_Oscillator_Set-1_Deg-4_Params-1.0_0.5_IC--0.5_0.0.pkl', 'Quartic_Oscillator_Set-2_Deg-4_Params-1.0_1.0_IC-0.5_0.0.pkl', 'Lorenz96_Set-2_Deg-2_Params-12.0_6_IC-1.75_0.875_0.875_0.875_1.75_0.0.pkl', 'Van_der_Pol_Set-3_Deg-3_Params-10.0_IC-5.0_0.0.pkl', 'Linear_5D_Coupled_Oscillators_Set-1_Deg-1_Params-1.0_1.0_1.0_1.0_1.0_IC-1.5_0.0_0.0_0.0_0.0.pkl', 'Lotka_Volterra_Cubic_Set-2_Deg-3_Params-1.0_0.5_0.3_1.0_0.2_IC-0.7_0.5.pkl', 'Quartic_Oscillator_Set-2_Deg-4_Params-1.0_1.0_IC--0.125_0.0.pkl', 'Duffing_Oscillator_Set-1_Deg-3_Params-0.2_1.0_0.5_0.3_1.0_IC-1.25_0.0.pkl', 'Van_der_Pol_Set-2_Deg-3_Params-1.0_IC-0.0_1.75.pkl', 'Van_der_Pol_Set-4_Deg-3_Params-20.0_IC-0.275_0.275.pkl', 'Lorenz_Set-3_Deg-2_Params-10.0_100.0_2.6666666666666665_IC-2.0_2.0_2.0.pkl', 'Lotka_Volterra_Cubic_Set-1_Deg-3_Params-1.0_0.5_0.1_1.0_0.1_IC-1.5_3.0.pkl', 'Linear_3D_Coupled_Oscillators_Set-2_Deg-1_Params-0.5_0.5_0.5_IC--0.5_-0.5_-0.5.pkl', 'Quartic_Oscillator_Set-2_Deg-4_Params-1.0_1.0_IC-0.25_0.0.pkl', 'Linear_2D_Harmonic_Oscillator_Set-1_Deg-1_Params-1.0_IC-0.25_0.0.pkl', 'Lorenz96_Set-1_Deg-2_Params-10.0_4_IC-0.0_0.25_0.5_0.75.pkl', 'Van_der_Pol_Set-4_Deg-3_Params-20.0_IC-0.1_0.1.pkl', 'Lotka_Volterra_Cubic_Set-2_Deg-3_Params-1.0_0.5_0.3_1.0_0.2_IC-0.17500000000000004_0.125.pkl', 'Lotka_Volterra_Cubic_Set-1_Deg-3_Params-1.0_0.5_0.1_1.0_0.1_IC-0.5_1.0.pkl', 'Lotka_Volterra_Cubic_Set-1_Deg-3_Params-1.0_0.5_0.1_1.0_0.1_IC-0.125_0.25.pkl', 'Rossler_Set-1_Deg-2_Params-0.2_0.2_5.7_IC-2.75_2.75_2.75.pkl', 'Quartic_Oscillator_Set-2_Deg-4_Params-1.0_1.0_IC--0.375_0.0.pkl', 'Lotka_Volterra_Cubic_Set-2_Deg-3_Params-1.0_0.5_0.3_1.0_0.2_IC-1.4_1.0.pkl', 'Linear_4D_Coupled_Oscillators_Set-2_Deg-1_Params-0.0_0.5_0.5_0.5_IC-0.5_0.0_0.0_0.0.pkl', 'Lorenz96_Set-2_Deg-2_Params-12.0_6_IC-0.0_0.0_0.0_0.0_0.0_0.0.pkl', 'Lorenz_Set-2_Deg-2_Params-10.0_15.0_2.6666666666666665_IC-1.375_1.375_1.375.pkl', 'Rossler_Set-2_Deg-2_Params-0.1_0.1_6.0_IC--0.5_-0.5_-0.5.pkl', 'Linear_5D_Coupled_Oscillators_Set-1_Deg-1_Params-1.0_1.0_1.0_1.0_1.0_IC-2.25_0.0_0.0_0.0_0.0.pkl', 'Lorenz_Set-2_Deg-2_Params-10.0_15.0_2.6666666666666665_IC--0.5_-0.5_-0.5.pkl', 'Linear_4D_Coupled_Oscillators_Set-1_Deg-1_Params-1.0_1.0_1.0_1.0_IC-1.5_0.0_0.0_0.0.pkl', 'Linear_4D_Coupled_Oscillators_Set-2_Deg-1_Params-0.0_0.5_0.5_0.5_IC-1.5_0.0_0.0_0.0.pkl', 'Linear_3D_Coupled_Oscillators_Set-2_Deg-1_Params-0.5_0.5_0.5_IC-0.25_0.25_0.25.pkl', 'Duffing_Oscillator_Set-1_Deg-3_Params-0.2_1.0_0.5_0.3_1.0_IC-0.25_0.0.pkl', 'Linear_2D_Harmonic_Oscillator_Set-2_Deg-1_Params-0.25_IC-0.25_0.0.pkl', 'Rossler_Set-3_Deg-2_Params-0.2_0.2_10.0_IC--1.0_0.0_0.0.pkl', 'Lotka_Volterra_Cubic_Set-1_Deg-3_Params-1.0_0.5_0.1_1.0_0.1_IC-0.75_1.5.pkl', 'Van_der_Pol_Set-4_Deg-3_Params-20.0_IC-0.25_0.25.pkl', 'Rossler_Set-2_Deg-2_Params-0.1_0.1_6.0_IC-1.0_1.0_1.0.pkl', 'Lotka_Volterra_Cubic_Set-1_Deg-3_Params-1.0_0.5_0.1_1.0_0.1_IC-0.0_0.0.pkl', 'Van_der_Pol_Set-3_Deg-3_Params-10.0_IC-3.5_0.0.pkl', 'Lorenz_Set-1_Deg-2_Params-10.0_28.0_2.6666666666666665_IC-2.0_2.0_2.0.pkl', 'Duffing_Oscillator_Set-2_Deg-3_Params-0.2_1.0_0.5_0.8_1.0_IC-0.0_0.0.pkl', 'Linear_2D_Harmonic_Oscillator_Set-2_Deg-1_Params-0.25_IC-1.25_0.0.pkl', 'Lorenz_Set-3_Deg-2_Params-10.0_100.0_2.6666666666666665_IC-5.0_5.0_5.0.pkl', 'Linear_5D_Coupled_Oscillators_Set-2_Deg-1_Params-0.5_0.5_0.5_0.5_0.5_IC-2.25_247.5_247.5_22.5_-45.0.pkl', 'Van_der_Pol_Set-3_Deg-3_Params-10.0_IC-5.5_0.0.pkl', 'Lorenz_Set-3_Deg-2_Params-10.0_100.0_2.6666666666666665_IC-4.0_4.0_4.0.pkl', 'Linear_1D_Set-1_Deg-1_Params-0.5_IC-1.5.pkl', 'Linear_4D_Coupled_Oscillators_Set-1_Deg-1_Params-1.0_1.0_1.0_1.0_IC--0.75_0.0_0.0_0.0.pkl', 'Linear_5D_Coupled_Oscillators_Set-1_Deg-1_Params-1.0_1.0_1.0_1.0_1.0_IC-1.25_0.0_0.0_0.0_0.0.pkl', 'Linear_3D_Coupled_Oscillators_Set-1_Deg-1_Params-1.0_1.0_1.0_IC-1.5_0.0_0.0.pkl', 'Duffing_Oscillator_Set-1_Deg-3_Params-0.2_1.0_0.5_0.3_1.0_IC-2.25_0.0.pkl', 'Lorenz_Set-1_Deg-2_Params-10.0_28.0_2.6666666666666665_IC--1.0_-1.0_-1.0.pkl', 'Duffing_Oscillator_Set-1_Deg-3_Params-0.2_1.0_0.5_0.3_1.0_IC--0.75_0.0.pkl', 'Linear_1D_Set-1_Deg-1_Params-0.5_IC--1.0.pkl', 'Duffing_Oscillator_Set-1_Deg-3_Params-0.2_1.0_0.5_0.3_1.0_IC-1.0_0.0.pkl', 'Linear_5D_Coupled_Oscillators_Set-2_Deg-1_Params-0.5_0.5_0.5_0.5_0.5_IC-3.0_330.0_330.0_30.0_-60.0.pkl', 'Linear_2D_Harmonic_Oscillator_Set-1_Deg-1_Params-1.0_IC-2.5_0.0.pkl', 'Linear_2D_Harmonic_Oscillator_Set-1_Deg-1_Params-1.0_IC-0.0_0.0.pkl', 'Van_der_Pol_Set-2_Deg-3_Params-1.0_IC-0.0_2.75.pkl', 'Linear_1D_Set-2_Deg-1_Params--0.5_IC-1.0.pkl', 'Lotka_Volterra_Cubic_Set-1_Deg-3_Params-1.0_0.5_0.1_1.0_0.1_IC-0.875_1.75.pkl', 'Lorenz96_Set-2_Deg-2_Params-12.0_6_IC-1.5_0.75_0.75_0.75_1.5_0.0.pkl', 'Linear_1D_Set-2_Deg-1_Params--0.5_IC-1.5.pkl', 'Lorenz96_Set-2_Deg-2_Params-12.0_6_IC-2.25_1.125_1.125_1.125_2.25_0.0.pkl', 'Lorenz_Set-3_Deg-2_Params-10.0_100.0_2.6666666666666665_IC-1.5_1.5_1.5.pkl', 'Quartic_Oscillator_Set-2_Deg-4_Params-1.0_1.0_IC-0.375_0.0.pkl', 'Linear_5D_Coupled_Oscillators_Set-2_Deg-1_Params-0.5_0.5_0.5_0.5_0.5_IC-0.75_82.5_82.5_7.5_-15.0.pkl', 'Lorenz_Set-2_Deg-2_Params-10.0_15.0_2.6666666666666665_IC-0.375_0.375_0.375.pkl', 'Linear_3D_Coupled_Oscillators_Set-2_Deg-1_Params-0.5_0.5_0.5_IC-0.0_0.0_0.0.pkl', 'Rossler_Set-2_Deg-2_Params-0.1_0.1_6.0_IC--0.125_-0.125_-0.125.pkl', 'Linear_5D_Coupled_Oscillators_Set-1_Deg-1_Params-1.0_1.0_1.0_1.0_1.0_IC--0.25_0.0_0.0_0.0_0.0.pkl', 'Lotka_Volterra_Cubic_Set-2_Deg-3_Params-1.0_0.5_0.3_1.0_0.2_IC-1.7499999999999998_1.25.pkl', 'Lorenz_Set-3_Deg-2_Params-10.0_100.0_2.6666666666666665_IC-5.5_5.5_5.5.pkl', 'Lorenz_Set-2_Deg-2_Params-10.0_15.0_2.6666666666666665_IC--0.375_-0.375_-0.375.pkl', 'Rossler_Set-3_Deg-2_Params-0.2_0.2_10.0_IC-2.25_0.0_0.0.pkl', 'Duffing_Oscillator_Set-1_Deg-3_Params-0.2_1.0_0.5_0.3_1.0_IC-3.0_0.0.pkl', 'Lorenz_Set-2_Deg-2_Params-10.0_15.0_2.6666666666666665_IC-1.25_1.25_1.25.pkl', 'Linear_4D_Coupled_Oscillators_Set-1_Deg-1_Params-1.0_1.0_1.0_1.0_IC-1.25_0.0_0.0_0.0.pkl', 'Duffing_Oscillator_Set-2_Deg-3_Params-0.2_1.0_0.5_0.8_1.0_IC--0.5_0.0.pkl', 'Lotka_Volterra_Cubic_Set-1_Deg-3_Params-1.0_0.5_0.1_1.0_0.1_IC-1.25_2.5.pkl', 'Van_der_Pol_Set-2_Deg-3_Params-1.0_IC-0.0_3.0.pkl', 'Linear_4D_Coupled_Oscillators_Set-1_Deg-1_Params-1.0_1.0_1.0_1.0_IC-2.5_0.0_0.0_0.0.pkl', 'Linear_1D_Set-1_Deg-1_Params-0.5_IC-0.5.pkl', 'Rossler_Set-3_Deg-2_Params-0.2_0.2_10.0_IC-1.75_0.0_0.0.pkl', 'Duffing_Oscillator_Set-1_Deg-3_Params-0.2_1.0_0.5_0.3_1.0_IC-2.5_0.0.pkl', 'Linear_4D_Coupled_Oscillators_Set-1_Deg-1_Params-1.0_1.0_1.0_1.0_IC-2.0_0.0_0.0_0.0.pkl', 'Van_der_Pol_Set-4_Deg-3_Params-20.0_IC--0.05000000000000002_-0.05000000000000002.pkl', 'Linear_1D_Set-1_Deg-1_Params-0.5_IC-1.75.pkl', 'Quartic_Oscillator_Set-1_Deg-4_Params-1.0_0.5_IC-2.25_0.0.pkl', 'Lorenz96_Set-2_Deg-2_Params-12.0_6_IC-2.75_1.375_1.375_1.375_2.75_0.0.pkl', 'Rossler_Set-1_Deg-2_Params-0.2_0.2_5.7_IC--1.0_-1.0_-1.0.pkl', 'Lotka_Volterra_Cubic_Set-2_Deg-3_Params-1.0_0.5_0.3_1.0_0.2_IC-0.5249999999999999_0.375.pkl', 'Lotka_Volterra_Cubic_Set-2_Deg-3_Params-1.0_0.5_0.3_1.0_0.2_IC-0.875_0.625.pkl', 'Van_der_Pol_Set-2_Deg-3_Params-1.0_IC-0.0_1.0.pkl', 'Linear_1D_Set-1_Deg-1_Params-0.5_IC--0.5.pkl', 'Lorenz96_Set-1_Deg-2_Params-10.0_4_IC-0.0_1.75_3.5_5.25.pkl', 'Linear_1D_Set-2_Deg-1_Params--0.5_IC--0.75.pkl', 'Linear_3D_Coupled_Oscillators_Set-1_Deg-1_Params-1.0_1.0_1.0_IC-2.5_0.0_0.0.pkl', 'Quartic_Oscillator_Set-1_Deg-4_Params-1.0_0.5_IC-0.0_0.0.pkl', 'Linear_2D_Harmonic_Oscillator_Set-1_Deg-1_Params-1.0_IC-0.75_0.0.pkl', 'Linear_5D_Coupled_Oscillators_Set-2_Deg-1_Params-0.5_0.5_0.5_0.5_0.5_IC-1.25_137.5_137.5_12.5_-25.0.pkl', 'Rossler_Set-3_Deg-2_Params-0.2_0.2_10.0_IC--0.5_0.0_0.0.pkl', 'Lorenz_Set-1_Deg-2_Params-10.0_28.0_2.6666666666666665_IC-2.25_2.25_2.25.pkl', 'Lorenz_Set-3_Deg-2_Params-10.0_100.0_2.6666666666666665_IC-0.0_0.0_0.0.pkl', 'Quartic_Oscillator_Set-1_Deg-4_Params-1.0_0.5_IC-0.25_0.0.pkl', 'Lorenz_Set-3_Deg-2_Params-10.0_100.0_2.6666666666666665_IC-3.0_3.0_3.0.pkl', 'Linear_1D_Set-1_Deg-1_Params-0.5_IC-2.75.pkl', 'Lorenz_Set-2_Deg-2_Params-10.0_15.0_2.6666666666666665_IC--0.125_-0.125_-0.125.pkl', 'Lotka_Volterra_Cubic_Set-2_Deg-3_Params-1.0_0.5_0.3_1.0_0.2_IC--0.7_-0.5.pkl', 'Lorenz_Set-2_Deg-2_Params-10.0_15.0_2.6666666666666665_IC-0.0_0.0_0.0.pkl', 'Linear_3D_Coupled_Oscillators_Set-2_Deg-1_Params-0.5_0.5_0.5_IC-2.0_2.0_2.0.pkl', 'Linear_1D_Set-1_Deg-1_Params-0.5_IC-3.0.pkl', 'Duffing_Oscillator_Set-2_Deg-3_Params-0.2_1.0_0.5_0.8_1.0_IC-0.25_0.0.pkl', 'Lorenz_Set-1_Deg-2_Params-10.0_28.0_2.6666666666666665_IC-1.25_1.25_1.25.pkl', 'Linear_2D_Harmonic_Oscillator_Set-2_Deg-1_Params-0.25_IC-3.0_0.0.pkl', 'Linear_4D_Coupled_Oscillators_Set-2_Deg-1_Params-0.0_0.5_0.5_0.5_IC-1.75_0.0_0.0_0.0.pkl', 'Linear_4D_Coupled_Oscillators_Set-2_Deg-1_Params-0.0_0.5_0.5_0.5_IC--0.75_0.0_0.0_0.0.pkl', 'Lotka_Volterra_Cubic_Set-2_Deg-3_Params-1.0_0.5_0.3_1.0_0.2_IC-1.2249999999999999_0.875.pkl', 'Van_der_Pol_Set-1_Deg-3_Params-0.5_IC-2.25_0.0.pkl', 'Quartic_Oscillator_Set-1_Deg-4_Params-1.0_0.5_IC-1.0_0.0.pkl', 'Van_der_Pol_Set-2_Deg-3_Params-1.0_IC-0.0_1.25.pkl', 'Linear_5D_Coupled_Oscillators_Set-1_Deg-1_Params-1.0_1.0_1.0_1.0_1.0_IC-0.25_0.0_0.0_0.0_0.0.pkl', 'Linear_2D_Harmonic_Oscillator_Set-2_Deg-1_Params-0.25_IC-2.75_0.0.pkl', 'Linear_5D_Coupled_Oscillators_Set-1_Deg-1_Params-1.0_1.0_1.0_1.0_1.0_IC--0.75_0.0_0.0_0.0_0.0.pkl', 'Van_der_Pol_Set-4_Deg-3_Params-20.0_IC-0.0_0.0.pkl', 'Linear_4D_Coupled_Oscillators_Set-1_Deg-1_Params-1.0_1.0_1.0_1.0_IC-1.75_0.0_0.0_0.0.pkl', 'Lorenz_Set-1_Deg-2_Params-10.0_28.0_2.6666666666666665_IC-0.0_0.0_0.0.pkl', 'Rossler_Set-3_Deg-2_Params-0.2_0.2_10.0_IC-0.25_0.0_0.0.pkl', 'Lorenz96_Set-1_Deg-2_Params-10.0_4_IC-0.0_2.25_4.5_6.75.pkl', 'Linear_5D_Coupled_Oscillators_Set-1_Deg-1_Params-1.0_1.0_1.0_1.0_1.0_IC-2.5_0.0_0.0_0.0_0.0.pkl', 'Linear_3D_Coupled_Oscillators_Set-1_Deg-1_Params-1.0_1.0_1.0_IC-2.25_0.0_0.0.pkl', 'Lorenz_Set-3_Deg-2_Params-10.0_100.0_2.6666666666666665_IC--1.0_-1.0_-1.0.pkl', 'Lorenz_Set-2_Deg-2_Params-10.0_15.0_2.6666666666666665_IC-0.875_0.875_0.875.pkl', 'Lorenz_Set-3_Deg-2_Params-10.0_100.0_2.6666666666666665_IC--0.5_-0.5_-0.5.pkl', 'Lotka_Volterra_Cubic_Set-1_Deg-3_Params-1.0_0.5_0.1_1.0_0.1_IC-1.125_2.25.pkl', 'Van_der_Pol_Set-2_Deg-3_Params-1.0_IC-0.0_2.25.pkl', 'Linear_2D_Harmonic_Oscillator_Set-1_Deg-1_Params-1.0_IC-0.5_0.0.pkl', 'Quartic_Oscillator_Set-2_Deg-4_Params-1.0_1.0_IC-1.375_0.0.pkl', 'Lorenz96_Set-1_Deg-2_Params-10.0_4_IC-0.0_0.5_1.0_1.5.pkl', 'Linear_3D_Coupled_Oscillators_Set-1_Deg-1_Params-1.0_1.0_1.0_IC--1.0_0.0_0.0.pkl', 'Duffing_Oscillator_Set-2_Deg-3_Params-0.2_1.0_0.5_0.8_1.0_IC-1.5_0.0.pkl', 'Linear_3D_Coupled_Oscillators_Set-1_Deg-1_Params-1.0_1.0_1.0_IC-2.0_0.0_0.0.pkl', 'Lorenz96_Set-1_Deg-2_Params-10.0_4_IC-0.0_1.0_2.0_3.0.pkl', 'Linear_4D_Coupled_Oscillators_Set-2_Deg-1_Params-0.0_0.5_0.5_0.5_IC-2.75_0.0_0.0_0.0.pkl', 'Linear_2D_Harmonic_Oscillator_Set-1_Deg-1_Params-1.0_IC--0.25_0.0.pkl', 'Duffing_Oscillator_Set-1_Deg-3_Params-0.2_1.0_0.5_0.3_1.0_IC-1.75_0.0.pkl', 'Van_der_Pol_Set-1_Deg-3_Params-0.5_IC-0.25_0.0.pkl', 'Linear_4D_Coupled_Oscillators_Set-1_Deg-1_Params-1.0_1.0_1.0_1.0_IC-3.0_0.0_0.0_0.0.pkl', 'Linear_1D_Set-2_Deg-1_Params--0.5_IC-2.75.pkl', 'Linear_5D_Coupled_Oscillators_Set-2_Deg-1_Params-0.5_0.5_0.5_0.5_0.5_IC-2.5_275.0_275.0_25.0_-50.0.pkl', 'Linear_1D_Set-2_Deg-1_Params--0.5_IC--1.0.pkl', 'Quartic_Oscillator_Set-2_Deg-4_Params-1.0_1.0_IC-0.75_0.0.pkl', 'Linear_3D_Coupled_Oscillators_Set-1_Deg-1_Params-1.0_1.0_1.0_IC-0.5_0.0_0.0.pkl', 'Quartic_Oscillator_Set-1_Deg-4_Params-1.0_0.5_IC-1.5_0.0.pkl', 'Rossler_Set-3_Deg-2_Params-0.2_0.2_10.0_IC--0.25_0.0_0.0.pkl', 'Lorenz96_Set-2_Deg-2_Params-12.0_6_IC--0.75_-0.375_-0.375_-0.375_-0.75_0.0.pkl', 'Lorenz_Set-3_Deg-2_Params-10.0_100.0_2.6666666666666665_IC-4.5_4.5_4.5.pkl', 'Lorenz96_Set-2_Deg-2_Params-12.0_6_IC-1.0_0.5_0.5_0.5_1.0_0.0.pkl', 'Quartic_Oscillator_Set-1_Deg-4_Params-1.0_0.5_IC--0.25_0.0.pkl', 'Lotka_Volterra_Cubic_Set-2_Deg-3_Params-1.0_0.5_0.3_1.0_0.2_IC-2.0999999999999996_1.5.pkl', 'Van_der_Pol_Set-4_Deg-3_Params-20.0_IC-0.225_0.225.pkl', 'Lotka_Volterra_Cubic_Set-2_Deg-3_Params-1.0_0.5_0.3_1.0_0.2_IC-0.35_0.25.pkl', 'Van_der_Pol_Set-1_Deg-3_Params-0.5_IC-2.0_0.0.pkl', 'Duffing_Oscillator_Set-2_Deg-3_Params-0.2_1.0_0.5_0.8_1.0_IC-0.375_0.0.pkl', 'Duffing_Oscillator_Set-1_Deg-3_Params-0.2_1.0_0.5_0.3_1.0_IC-2.75_0.0.pkl', 'Linear_5D_Coupled_Oscillators_Set-1_Deg-1_Params-1.0_1.0_1.0_1.0_1.0_IC-3.0_0.0_0.0_0.0_0.0.pkl', 'Rossler_Set-2_Deg-2_Params-0.1_0.1_6.0_IC-0.75_0.75_0.75.pkl', 'Van_der_Pol_Set-3_Deg-3_Params-10.0_IC-2.5_0.0.pkl', 'Rossler_Set-2_Deg-2_Params-0.1_0.1_6.0_IC-0.25_0.25_0.25.pkl', 'Linear_5D_Coupled_Oscillators_Set-1_Deg-1_Params-1.0_1.0_1.0_1.0_1.0_IC-1.0_0.0_0.0_0.0_0.0.pkl', 'Van_der_Pol_Set-3_Deg-3_Params-10.0_IC-0.0_0.0.pkl', 'Linear_4D_Coupled_Oscillators_Set-2_Deg-1_Params-0.0_0.5_0.5_0.5_IC-0.75_0.0_0.0_0.0.pkl', 'Linear_5D_Coupled_Oscillators_Set-2_Deg-1_Params-0.5_0.5_0.5_0.5_0.5_IC-0.0_0.0_0.0_0.0_0.0.pkl', 'Duffing_Oscillator_Set-1_Deg-3_Params-0.2_1.0_0.5_0.3_1.0_IC-2.0_0.0.pkl', 'Linear_5D_Coupled_Oscillators_Set-2_Deg-1_Params-0.5_0.5_0.5_0.5_0.5_IC--1.0_-110.0_-110.0_-10.0_20.0.pkl', 'Linear_1D_Set-1_Deg-1_Params-0.5_IC-2.5.pkl', 'Linear_5D_Coupled_Oscillators_Set-2_Deg-1_Params-0.5_0.5_0.5_0.5_0.5_IC-0.25_27.5_27.5_2.5_-5.0.pkl', 'Van_der_Pol_Set-3_Deg-3_Params-10.0_IC-1.5_0.0.pkl', 'Linear_2D_Harmonic_Oscillator_Set-2_Deg-1_Params-0.25_IC-0.5_0.0.pkl', 'Linear_2D_Harmonic_Oscillator_Set-1_Deg-1_Params-1.0_IC--0.75_0.0.pkl', 'Van_der_Pol_Set-2_Deg-3_Params-1.0_IC-0.0_0.5.pkl', 'Lotka_Volterra_Cubic_Set-1_Deg-3_Params-1.0_0.5_0.1_1.0_0.1_IC-1.375_2.75.pkl', 'Quartic_Oscillator_Set-1_Deg-4_Params-1.0_0.5_IC-3.0_0.0.pkl', 'Rossler_Set-2_Deg-2_Params-0.1_0.1_6.0_IC--0.375_-0.375_-0.375.pkl', 'Duffing_Oscillator_Set-1_Deg-3_Params-0.2_1.0_0.5_0.3_1.0_IC-1.5_0.0.pkl', 'Lotka_Volterra_Cubic_Set-2_Deg-3_Params-1.0_0.5_0.3_1.0_0.2_IC-0.0_0.0.pkl', 'Lorenz96_Set-1_Deg-2_Params-10.0_4_IC-0.0_1.25_2.5_3.75.pkl', 'Linear_5D_Coupled_Oscillators_Set-2_Deg-1_Params-0.5_0.5_0.5_0.5_0.5_IC-1.5_165.0_165.0_15.0_-30.0.pkl', 'Linear_1D_Set-2_Deg-1_Params--0.5_IC-0.75.pkl', 'Van_der_Pol_Set-4_Deg-3_Params-20.0_IC-0.2_0.2.pkl', 'Lorenz_Set-1_Deg-2_Params-10.0_28.0_2.6666666666666665_IC-3.0_3.0_3.0.pkl', 'Rossler_Set-1_Deg-2_Params-0.2_0.2_5.7_IC-1.75_1.75_1.75.pkl', 'Lotka_Volterra_Cubic_Set-1_Deg-3_Params-1.0_0.5_0.1_1.0_0.1_IC-0.625_1.25.pkl', 'Lorenz96_Set-1_Deg-2_Params-10.0_4_IC-0.0_-0.75_-1.5_-2.25.pkl', 'Lorenz_Set-1_Deg-2_Params-10.0_28.0_2.6666666666666665_IC-2.5_2.5_2.5.pkl', 'Linear_2D_Harmonic_Oscillator_Set-2_Deg-1_Params-0.25_IC-2.5_0.0.pkl', 'Lorenz96_Set-2_Deg-2_Params-12.0_6_IC-1.25_0.625_0.625_0.625_1.25_0.0.pkl', 'Linear_3D_Coupled_Oscillators_Set-1_Deg-1_Params-1.0_1.0_1.0_IC-1.0_0.0_0.0.pkl', 'Duffing_Oscillator_Set-1_Deg-3_Params-0.2_1.0_0.5_0.3_1.0_IC--0.25_0.0.pkl', 'Linear_1D_Set-2_Deg-1_Params--0.5_IC-0.25.pkl', 'Lorenz_Set-2_Deg-2_Params-10.0_15.0_2.6666666666666665_IC-1.125_1.125_1.125.pkl', 'Rossler_Set-1_Deg-2_Params-0.2_0.2_5.7_IC-0.0_0.0_0.0.pkl', 'Van_der_Pol_Set-1_Deg-3_Params-0.5_IC-0.75_0.0.pkl', 'Duffing_Oscillator_Set-1_Deg-3_Params-0.2_1.0_0.5_0.3_1.0_IC--1.0_0.0.pkl', 'Duffing_Oscillator_Set-2_Deg-3_Params-0.2_1.0_0.5_0.8_1.0_IC-1.25_0.0.pkl', 'Van_der_Pol_Set-3_Deg-3_Params-10.0_IC--2.0_0.0.pkl', 'Lorenz96_Set-1_Deg-2_Params-10.0_4_IC-0.0_2.5_5.0_7.5.pkl', 'Duffing_Oscillator_Set-2_Deg-3_Params-0.2_1.0_0.5_0.8_1.0_IC-1.0_0.0.pkl', 'Rossler_Set-3_Deg-2_Params-0.2_0.2_10.0_IC-1.5_0.0_0.0.pkl', 'Duffing_Oscillator_Set-2_Deg-3_Params-0.2_1.0_0.5_0.8_1.0_IC--0.375_0.0.pkl', 'Linear_2D_Harmonic_Oscillator_Set-2_Deg-1_Params-0.25_IC--0.5_0.0.pkl', 'Quartic_Oscillator_Set-2_Deg-4_Params-1.0_1.0_IC-1.5_0.0.pkl', 'Lorenz_Set-2_Deg-2_Params-10.0_15.0_2.6666666666666665_IC-1.0_1.0_1.0.pkl', 'Quartic_Oscillator_Set-1_Deg-4_Params-1.0_0.5_IC-2.0_0.0.pkl', 'Rossler_Set-2_Deg-2_Params-0.1_0.1_6.0_IC-0.125_0.125_0.125.pkl', 'Linear_5D_Coupled_Oscillators_Set-2_Deg-1_Params-0.5_0.5_0.5_0.5_0.5_IC-2.75_302.5_302.5_27.5_-55.0.pkl', 'Van_der_Pol_Set-3_Deg-3_Params-10.0_IC-1.0_0.0.pkl', 'Linear_2D_Harmonic_Oscillator_Set-1_Deg-1_Params-1.0_IC-1.0_0.0.pkl', 'Van_der_Pol_Set-2_Deg-3_Params-1.0_IC-0.0_-0.25.pkl', 'Rossler_Set-3_Deg-2_Params-0.2_0.2_10.0_IC-0.5_0.0_0.0.pkl', 'Lorenz96_Set-1_Deg-2_Params-10.0_4_IC-0.0_-0.25_-0.5_-0.75.pkl', 'Van_der_Pol_Set-4_Deg-3_Params-20.0_IC--0.024999999999999994_-0.024999999999999994.pkl', 'Lorenz_Set-1_Deg-2_Params-10.0_28.0_2.6666666666666665_IC-2.75_2.75_2.75.pkl', 'Lorenz_Set-3_Deg-2_Params-10.0_100.0_2.6666666666666665_IC-2.5_2.5_2.5.pkl', 'Lotka_Volterra_Cubic_Set-2_Deg-3_Params-1.0_0.5_0.3_1.0_0.2_IC-1.575_1.125.pkl', 'Quartic_Oscillator_Set-2_Deg-4_Params-1.0_1.0_IC-0.0_0.0.pkl', 'Linear_3D_Coupled_Oscillators_Set-1_Deg-1_Params-1.0_1.0_1.0_IC-0.75_0.0_0.0.pkl', 'Van_der_Pol_Set-3_Deg-3_Params-10.0_IC--0.5_0.0.pkl', 'Linear_3D_Coupled_Oscillators_Set-2_Deg-1_Params-0.5_0.5_0.5_IC-1.25_1.25_1.25.pkl', 'Linear_3D_Coupled_Oscillators_Set-2_Deg-1_Params-0.5_0.5_0.5_IC--0.75_-0.75_-0.75.pkl', 'Linear_3D_Coupled_Oscillators_Set-2_Deg-1_Params-0.5_0.5_0.5_IC--1.0_-1.0_-1.0.pkl', 'Rossler_Set-1_Deg-2_Params-0.2_0.2_5.7_IC-2.0_2.0_2.0.pkl', 'Linear_1D_Set-1_Deg-1_Params-0.5_IC-1.0.pkl', 'Linear_5D_Coupled_Oscillators_Set-2_Deg-1_Params-0.5_0.5_0.5_0.5_0.5_IC--0.25_-27.5_-27.5_-2.5_5.0.pkl', 'Lorenz96_Set-1_Deg-2_Params-10.0_4_IC-0.0_1.5_3.0_4.5.pkl', 'Rossler_Set-1_Deg-2_Params-0.2_0.2_5.7_IC--0.75_-0.75_-0.75.pkl', 'Rossler_Set-1_Deg-2_Params-0.2_0.2_5.7_IC-1.5_1.5_1.5.pkl', 'Lotka_Volterra_Cubic_Set-2_Deg-3_Params-1.0_0.5_0.3_1.0_0.2_IC--0.34999999999999987_-0.25.pkl', 'Linear_2D_Harmonic_Oscillator_Set-1_Deg-1_Params-1.0_IC-2.75_0.0.pkl', 'Rossler_Set-1_Deg-2_Params-0.2_0.2_5.7_IC-0.25_0.25_0.25.pkl', 'Quartic_Oscillator_Set-2_Deg-4_Params-1.0_1.0_IC-0.625_0.0.pkl', 'Rossler_Set-1_Deg-2_Params-0.2_0.2_5.7_IC-1.25_1.25_1.25.pkl', 'Van_der_Pol_Set-2_Deg-3_Params-1.0_IC-0.0_2.5.pkl', 'Lorenz_Set-3_Deg-2_Params-10.0_100.0_2.6666666666666665_IC-1.0_1.0_1.0.pkl', 'Van_der_Pol_Set-2_Deg-3_Params-1.0_IC-0.0_0.25.pkl', 'Van_der_Pol_Set-3_Deg-3_Params-10.0_IC-3.0_0.0.pkl', 'Lorenz96_Set-1_Deg-2_Params-10.0_4_IC-0.0_-1.0_-2.0_-3.0.pkl', 'Lotka_Volterra_Cubic_Set-1_Deg-3_Params-1.0_0.5_0.1_1.0_0.1_IC-0.375_0.75.pkl', 'Lotka_Volterra_Cubic_Set-1_Deg-3_Params-1.0_0.5_0.1_1.0_0.1_IC--0.125_-0.25.pkl', 'Linear_1D_Set-1_Deg-1_Params-0.5_IC-1.25.pkl', 'Van_der_Pol_Set-1_Deg-3_Params-0.5_IC-3.0_0.0.pkl', 'Linear_4D_Coupled_Oscillators_Set-1_Deg-1_Params-1.0_1.0_1.0_1.0_IC-0.5_0.0_0.0_0.0.pkl', 'Van_der_Pol_Set-4_Deg-3_Params-20.0_IC-0.125_0.125.pkl', 'Linear_1D_Set-2_Deg-1_Params--0.5_IC-2.0.pkl', 'Linear_3D_Coupled_Oscillators_Set-2_Deg-1_Params-0.5_0.5_0.5_IC-0.75_0.75_0.75.pkl', 'Van_der_Pol_Set-4_Deg-3_Params-20.0_IC--0.1_-0.1.pkl', 'Lotka_Volterra_Cubic_Set-1_Deg-3_Params-1.0_0.5_0.1_1.0_0.1_IC-0.25_0.5.pkl', 'Lorenz96_Set-2_Deg-2_Params-12.0_6_IC-2.5_1.25_1.25_1.25_2.5_0.0.pkl', 'Van_der_Pol_Set-2_Deg-3_Params-1.0_IC-0.0_-0.5.pkl', 'Linear_1D_Set-2_Deg-1_Params--0.5_IC-2.5.pkl', 'Linear_3D_Coupled_Oscillators_Set-1_Deg-1_Params-1.0_1.0_1.0_IC-2.75_0.0_0.0.pkl', 'Rossler_Set-3_Deg-2_Params-0.2_0.2_10.0_IC-3.0_0.0_0.0.pkl', 'Linear_2D_Harmonic_Oscillator_Set-2_Deg-1_Params-0.25_IC-0.75_0.0.pkl', 'Van_der_Pol_Set-4_Deg-3_Params-20.0_IC-0.15000000000000002_0.15000000000000002.pkl', 'Duffing_Oscillator_Set-1_Deg-3_Params-0.2_1.0_0.5_0.3_1.0_IC-0.0_0.0.pkl', 'Lorenz_Set-1_Deg-2_Params-10.0_28.0_2.6666666666666665_IC-1.0_1.0_1.0.pkl', 'Linear_2D_Harmonic_Oscillator_Set-1_Deg-1_Params-1.0_IC-1.25_0.0.pkl', 'Lorenz_Set-1_Deg-2_Params-10.0_28.0_2.6666666666666665_IC--0.25_-0.25_-0.25.pkl', 'Rossler_Set-1_Deg-2_Params-0.2_0.2_5.7_IC-2.25_2.25_2.25.pkl', 'Van_der_Pol_Set-1_Deg-3_Params-0.5_IC-2.5_0.0.pkl', 'Van_der_Pol_Set-2_Deg-3_Params-1.0_IC-0.0_2.0.pkl', 'Linear_4D_Coupled_Oscillators_Set-2_Deg-1_Params-0.0_0.5_0.5_0.5_IC--0.5_0.0_0.0_0.0.pkl', 'Linear_4D_Coupled_Oscillators_Set-2_Deg-1_Params-0.0_0.5_0.5_0.5_IC-1.0_0.0_0.0_0.0.pkl', 'Rossler_Set-1_Deg-2_Params-0.2_0.2_5.7_IC-0.75_0.75_0.75.pkl', 'Van_der_Pol_Set-1_Deg-3_Params-0.5_IC--0.25_0.0.pkl', 'Rossler_Set-2_Deg-2_Params-0.1_0.1_6.0_IC-0.375_0.375_0.375.pkl', 'Linear_2D_Harmonic_Oscillator_Set-2_Deg-1_Params-0.25_IC--0.25_0.0.pkl', 'Van_der_Pol_Set-2_Deg-3_Params-1.0_IC-0.0_1.5.pkl', 'Lorenz_Set-3_Deg-2_Params-10.0_100.0_2.6666666666666665_IC-6.0_6.0_6.0.pkl', 'Van_der_Pol_Set-1_Deg-3_Params-0.5_IC-1.25_0.0.pkl', 'Linear_1D_Set-2_Deg-1_Params--0.5_IC-1.75.pkl', 'Rossler_Set-1_Deg-2_Params-0.2_0.2_5.7_IC-0.5_0.5_0.5.pkl', 'Lorenz96_Set-1_Deg-2_Params-10.0_4_IC-0.0_2.75_5.5_8.25.pkl', 'Linear_1D_Set-2_Deg-1_Params--0.5_IC-0.5.pkl', 'Duffing_Oscillator_Set-2_Deg-3_Params-0.2_1.0_0.5_0.8_1.0_IC-0.5_0.0.pkl', 'Lorenz96_Set-1_Deg-2_Params-10.0_4_IC-0.0_3.0_6.0_9.0.pkl', 'Van_der_Pol_Set-4_Deg-3_Params-20.0_IC--0.07500000000000001_-0.07500000000000001.pkl', 'Linear_3D_Coupled_Oscillators_Set-1_Deg-1_Params-1.0_1.0_1.0_IC--0.5_0.0_0.0.pkl', 'Linear_3D_Coupled_Oscillators_Set-2_Deg-1_Params-0.5_0.5_0.5_IC-2.25_2.25_2.25.pkl', 'Linear_1D_Set-1_Deg-1_Params-0.5_IC-2.0.pkl', 'Linear_2D_Harmonic_Oscillator_Set-1_Deg-1_Params-1.0_IC-1.5_0.0.pkl', 'Lorenz96_Set-1_Deg-2_Params-10.0_4_IC-0.0_0.0_0.0_0.0.pkl', 'Duffing_Oscillator_Set-2_Deg-3_Params-0.2_1.0_0.5_0.8_1.0_IC-0.75_0.0.pkl', 'Lorenz96_Set-1_Deg-2_Params-10.0_4_IC-0.0_2.0_4.0_6.0.pkl', 'Lorenz_Set-2_Deg-2_Params-10.0_15.0_2.6666666666666665_IC-1.5_1.5_1.5.pkl', 'Linear_5D_Coupled_Oscillators_Set-2_Deg-1_Params-0.5_0.5_0.5_0.5_0.5_IC-1.0_110.0_110.0_10.0_-20.0.pkl', 'Lorenz96_Set-2_Deg-2_Params-12.0_6_IC-0.75_0.375_0.375_0.375_0.75_0.0.pkl', 'Lorenz_Set-2_Deg-2_Params-10.0_15.0_2.6666666666666665_IC-0.125_0.125_0.125.pkl', 'Van_der_Pol_Set-1_Deg-3_Params-0.5_IC-0.0_0.0.pkl', 'Lorenz_Set-1_Deg-2_Params-10.0_28.0_2.6666666666666665_IC--0.5_-0.5_-0.5.pkl', 'Rossler_Set-3_Deg-2_Params-0.2_0.2_10.0_IC-1.0_0.0_0.0.pkl', 'Rossler_Set-2_Deg-2_Params-0.1_0.1_6.0_IC-0.5_0.5_0.5.pkl', 'Duffing_Oscillator_Set-1_Deg-3_Params-0.2_1.0_0.5_0.3_1.0_IC-0.75_0.0.pkl', 'Van_der_Pol_Set-1_Deg-3_Params-0.5_IC--0.5_0.0.pkl', 'Rossler_Set-3_Deg-2_Params-0.2_0.2_10.0_IC-0.75_0.0_0.0.pkl', 'Linear_1D_Set-1_Deg-1_Params-0.5_IC--0.25.pkl', 'Linear_1D_Set-2_Deg-1_Params--0.5_IC--0.25.pkl', 'Van_der_Pol_Set-2_Deg-3_Params-1.0_IC-0.0_-0.75.pkl', 'Linear_1D_Set-2_Deg-1_Params--0.5_IC-0.0.pkl', 'Linear_3D_Coupled_Oscillators_Set-2_Deg-1_Params-0.5_0.5_0.5_IC-2.75_2.75_2.75.pkl', 'Linear_4D_Coupled_Oscillators_Set-2_Deg-1_Params-0.0_0.5_0.5_0.5_IC-2.0_0.0_0.0_0.0.pkl', 'Linear_4D_Coupled_Oscillators_Set-1_Deg-1_Params-1.0_1.0_1.0_1.0_IC-2.75_0.0_0.0_0.0.pkl', 'Rossler_Set-1_Deg-2_Params-0.2_0.2_5.7_IC-2.5_2.5_2.5.pkl', 'Van_der_Pol_Set-4_Deg-3_Params-20.0_IC-0.024999999999999994_0.024999999999999994.pkl', 'Rossler_Set-3_Deg-2_Params-0.2_0.2_10.0_IC-1.25_0.0_0.0.pkl', 'Linear_4D_Coupled_Oscillators_Set-2_Deg-1_Params-0.0_0.5_0.5_0.5_IC-0.0_0.0_0.0_0.0.pkl', 'Lorenz96_Set-1_Deg-2_Params-10.0_4_IC-0.0_0.75_1.5_2.25.pkl', 'Linear_4D_Coupled_Oscillators_Set-1_Deg-1_Params-1.0_1.0_1.0_1.0_IC--0.5_0.0_0.0_0.0.pkl', 'Van_der_Pol_Set-2_Deg-3_Params-1.0_IC-0.0_-1.0.pkl', 'Linear_3D_Coupled_Oscillators_Set-1_Deg-1_Params-1.0_1.0_1.0_IC--0.25_0.0_0.0.pkl', 'Lorenz_Set-2_Deg-2_Params-10.0_15.0_2.6666666666666665_IC-0.25_0.25_0.25.pkl', 'Lorenz_Set-1_Deg-2_Params-10.0_28.0_2.6666666666666665_IC-0.25_0.25_0.25.pkl', 'Linear_4D_Coupled_Oscillators_Set-1_Deg-1_Params-1.0_1.0_1.0_1.0_IC-1.0_0.0_0.0_0.0.pkl', 'Lorenz96_Set-2_Deg-2_Params-12.0_6_IC-2.0_1.0_1.0_1.0_2.0_0.0.pkl', 'Rossler_Set-2_Deg-2_Params-0.1_0.1_6.0_IC--0.25_-0.25_-0.25.pkl', 'Lotka_Volterra_Cubic_Set-1_Deg-3_Params-1.0_0.5_0.1_1.0_0.1_IC--0.375_-0.75.pkl', 'Rossler_Set-2_Deg-2_Params-0.1_0.1_6.0_IC-0.875_0.875_0.875.pkl', 'Quartic_Oscillator_Set-1_Deg-4_Params-1.0_0.5_IC--1.0_0.0.pkl', 'Linear_3D_Coupled_Oscillators_Set-1_Deg-1_Params-1.0_1.0_1.0_IC-0.0_0.0_0.0.pkl', 'Quartic_Oscillator_Set-1_Deg-4_Params-1.0_0.5_IC-2.75_0.0.pkl', 'Linear_5D_Coupled_Oscillators_Set-1_Deg-1_Params-1.0_1.0_1.0_1.0_1.0_IC--0.5_0.0_0.0_0.0_0.0.pkl', 'Linear_1D_Set-2_Deg-1_Params--0.5_IC-2.25.pkl', 'Rossler_Set-1_Deg-2_Params-0.2_0.2_5.7_IC--0.25_-0.25_-0.25.pkl', 'Linear_4D_Coupled_Oscillators_Set-2_Deg-1_Params-0.0_0.5_0.5_0.5_IC-0.25_0.0_0.0_0.0.pkl', 'Quartic_Oscillator_Set-2_Deg-4_Params-1.0_1.0_IC-1.25_0.0.pkl', 'Linear_3D_Coupled_Oscillators_Set-2_Deg-1_Params-0.5_0.5_0.5_IC-2.5_2.5_2.5.pkl', 'Van_der_Pol_Set-3_Deg-3_Params-10.0_IC--1.5_0.0.pkl', 'Lotka_Volterra_Cubic_Set-1_Deg-3_Params-1.0_0.5_0.1_1.0_0.1_IC--0.25_-0.5.pkl', 'Linear_5D_Coupled_Oscillators_Set-2_Deg-1_Params-0.5_0.5_0.5_0.5_0.5_IC--0.75_-82.5_-82.5_-7.5_15.0.pkl', 'Rossler_Set-3_Deg-2_Params-0.2_0.2_10.0_IC-2.75_0.0_0.0.pkl', 'Lotka_Volterra_Cubic_Set-1_Deg-3_Params-1.0_0.5_0.1_1.0_0.1_IC--0.5_-1.0.pkl', 'Quartic_Oscillator_Set-1_Deg-4_Params-1.0_0.5_IC--0.75_0.0.pkl', 'Van_der_Pol_Set-1_Deg-3_Params-0.5_IC-1.0_0.0.pkl', 'Lorenz96_Set-2_Deg-2_Params-12.0_6_IC--1.0_-0.5_-0.5_-0.5_-1.0_0.0.pkl', 'Van_der_Pol_Set-4_Deg-3_Params-20.0_IC-0.17500000000000002_0.17500000000000002.pkl', 'Van_der_Pol_Set-1_Deg-3_Params-0.5_IC-1.5_0.0.pkl', 'Van_der_Pol_Set-3_Deg-3_Params-10.0_IC--1.0_0.0.pkl', 'Linear_5D_Coupled_Oscillators_Set-2_Deg-1_Params-0.5_0.5_0.5_0.5_0.5_IC-2.0_220.0_220.0_20.0_-40.0.pkl', 'Van_der_Pol_Set-2_Deg-3_Params-1.0_IC-0.0_0.75.pkl', 'Linear_2D_Harmonic_Oscillator_Set-1_Deg-1_Params-1.0_IC-2.25_0.0.pkl', 'Linear_5D_Coupled_Oscillators_Set-1_Deg-1_Params-1.0_1.0_1.0_1.0_1.0_IC-2.0_0.0_0.0_0.0_0.0.pkl', 'Linear_3D_Coupled_Oscillators_Set-2_Deg-1_Params-0.5_0.5_0.5_IC-1.75_1.75_1.75.pkl', 'Linear_5D_Coupled_Oscillators_Set-2_Deg-1_Params-0.5_0.5_0.5_0.5_0.5_IC--0.5_-55.0_-55.0_-5.0_10.0.pkl', 'Van_der_Pol_Set-1_Deg-3_Params-0.5_IC-1.75_0.0.pkl', 'Lorenz96_Set-2_Deg-2_Params-12.0_6_IC-0.5_0.25_0.25_0.25_0.5_0.0.pkl', 'Quartic_Oscillator_Set-1_Deg-4_Params-1.0_0.5_IC-1.75_0.0.pkl', 'Duffing_Oscillator_Set-2_Deg-3_Params-0.2_1.0_0.5_0.8_1.0_IC-0.625_0.0.pkl', 'Linear_3D_Coupled_Oscillators_Set-2_Deg-1_Params-0.5_0.5_0.5_IC-1.5_1.5_1.5.pkl', 'Lotka_Volterra_Cubic_Set-2_Deg-3_Params-1.0_0.5_0.3_1.0_0.2_IC-1.9249999999999998_1.375.pkl', 'Linear_2D_Harmonic_Oscillator_Set-2_Deg-1_Params-0.25_IC-1.0_0.0.pkl', 'Lorenz_Set-3_Deg-2_Params-10.0_100.0_2.6666666666666665_IC--1.5_-1.5_-1.5.pkl', 'Linear_4D_Coupled_Oscillators_Set-1_Deg-1_Params-1.0_1.0_1.0_1.0_IC--0.25_0.0_0.0_0.0.pkl', 'Lorenz96_Set-1_Deg-2_Params-10.0_4_IC-0.0_-0.5_-1.0_-1.5.pkl', 'Linear_5D_Coupled_Oscillators_Set-1_Deg-1_Params-1.0_1.0_1.0_1.0_1.0_IC-1.75_0.0_0.0_0.0_0.0.pkl', 'Rossler_Set-2_Deg-2_Params-0.1_0.1_6.0_IC-1.375_1.375_1.375.pkl', 'Lorenz_Set-2_Deg-2_Params-10.0_15.0_2.6666666666666665_IC-0.75_0.75_0.75.pkl', 'Linear_4D_Coupled_Oscillators_Set-2_Deg-1_Params-0.0_0.5_0.5_0.5_IC-2.25_0.0_0.0_0.0.pkl']\n"
          ]
        }
      ]
    },
    {
      "cell_type": "code",
      "source": [],
      "metadata": {
        "id": "t_9TsnuDAtNP"
      },
      "execution_count": 7,
      "outputs": []
    },
    {
      "cell_type": "code",
      "source": [
        "time_series_list = []\n",
        "labels = []\n",
        "filenames = []\n",
        "\n",
        "\"\"\"is it necessary for the neural network to have data  and labels in lists\"\"\"\n",
        "\n",
        "\n",
        "for filename in os.listdir(folder_path):\n",
        "    if filename.endswith('.pkl') or filename.endswith('.pickle'):\n",
        "        print(f\"Loading file: {filename}\")  # 👈 This line shows the filename\n",
        "        file_path = os.path.join(folder_path, filename)\n",
        "        with open(file_path, 'rb') as f:\n",
        "            data = pickle.load(f)\n",
        "            sol = data[\"Time series\"]  # shape: (10000, num_features)\n",
        "            degree = data[\"degree\"]    # class label: 0, 1, 2, or 3\n",
        "\n",
        "\n",
        "             # Extract the actual array and shape it correctly\n",
        "            sol_array = np.array(sol.y).T  # shape: (timesteps, features)\n",
        "            time_series_list.append(sol_array)\n",
        "            labels.append(degree)\n",
        "            filenames.append(filename)\n",
        "\n",
        "            #time_series_list.append(sol)\n",
        "            #labels.append(degree)\n",
        "\n",
        "print(f\"Loaded {len(time_series_list)} samples.\")\n",
        "print(f\"First sample shape: {time_series_list[0].shape}\")\n",
        "print(f\"First label: {labels[0]}\")\n",
        "\n"
      ],
      "metadata": {
        "id": "8C3L6_C1zuCu"
      },
      "execution_count": null,
      "outputs": []
    },
    {
      "cell_type": "code",
      "source": [
        "labels[0:5]"
      ],
      "metadata": {
        "id": "3BiR8BydA1WP"
      },
      "execution_count": null,
      "outputs": []
    },
    {
      "cell_type": "code",
      "source": [
        "for i, ts in enumerate(time_series_list):\n",
        "    print(f\"Sample {i}: shape {ts.shape} filename: {filenames[i]}\")\n",
        "\n"
      ],
      "metadata": {
        "id": "VI6IE9jy25Wr"
      },
      "execution_count": null,
      "outputs": []
    },
    {
      "cell_type": "code",
      "source": [
        "#Code to detect non-matching shapes:\n",
        "\n",
        "expected_timesteps = 10000  # The number of time steps you're expecting\n",
        "\n",
        "for i, ts in enumerate(time_series_list):\n",
        "    if ts.shape[0] != expected_timesteps:\n",
        "        print(f\"Sample {i}: shape {ts.shape}, file: {filenames[i]}\")"
      ],
      "metadata": {
        "id": "cy_s4Aaq0JWG"
      },
      "execution_count": null,
      "outputs": []
    },
    {
      "cell_type": "code",
      "source": [
        "for i, ts in enumerate(time_series_list):\n",
        "    if ts.shape[0] != expected_timesteps:\n",
        "        file_to_delete = os.path.join(folder_path, filenames[i])\n",
        "        print(f\"Deleting: {file_to_delete}\")\n",
        "        os.remove(file_to_delete)"
      ],
      "metadata": {
        "id": "2n5EPWKU0IM7"
      },
      "execution_count": null,
      "outputs": []
    },
    {
      "cell_type": "code",
      "source": [
        "time_series_list = []\n",
        "labels = []\n",
        "filenames = []\n",
        "\n",
        "\n",
        "\"\"\"is it necessary for the neural network to have data  and labels in lists\"\"\"\n",
        "\n",
        "\n",
        "for filename in os.listdir(folder_path):\n",
        "    if filename.endswith('.pkl') or filename.endswith('.pickle'):\n",
        "        print(f\"Loading file: {filename}\")    #This line shows the filename\n",
        "        file_path = os.path.join(folder_path, filename)\n",
        "        with open(file_path, 'rb') as f:\n",
        "            data = pickle.load(f)\n",
        "            sol = data[\"Time series\"]  # shape: (10000, num_features)\n",
        "            degree = data[\"degree\"]    # class label: 0, 1, 2, or 3\n",
        "\n",
        "             # Extract the actual array and shape it correctly\n",
        "            sol_array = np.array(sol.y).T  # shape: (timesteps, features)\n",
        "            time_series_list.append(sol_array)\n",
        "            labels.append(degree)\n",
        "            filenames.append(filename)\n",
        "\n",
        "            #time_series_list.append(np.array(sol))\n",
        "            #time_series_list.append(sol)  # No need to wrap again\n",
        "\n",
        "\n",
        "            #labels.append(degree)\n",
        "\n",
        "print(f\"Loaded {len(time_series_list)} samples.\")\n",
        "print(f\"First sample shape: {time_series_list[0].shape}\")\n",
        "print(f\"First label: {labels[0]}\")\n",
        "\n",
        "\n",
        "\n",
        "\n",
        "\n"
      ],
      "metadata": {
        "id": "8j8PizD90NHQ"
      },
      "execution_count": null,
      "outputs": []
    },
    {
      "cell_type": "code",
      "source": [
        "for i, ts in enumerate(time_series_list):\n",
        "    print(f\"Sample {i}: shape {ts.shape} filename: {filenames[i]}\")"
      ],
      "metadata": {
        "id": "xSdz2rNq0SO3"
      },
      "execution_count": null,
      "outputs": []
    },
    {
      "cell_type": "code",
      "source": [
        "#Pad the samples before feeding into the neural network\n",
        "padded_samples = pad_samples(time_series_list, target_dim=6)  # adjust if your target feature size is different\n",
        "\n",
        "# Step 9: Split into training and validation sets\n",
        "X_train, X_val, y_train, y_val = split_data(padded_samples, labels, test_size=0.2)\n",
        "\n",
        "# create dataset and dataloader\n",
        "train_dataset = TimeSeriesDataset(X_train, y_train)\n",
        "val_dataset = TimeSeriesDataset(X_val, y_val)\n",
        "\n",
        "dataloader = DataLoader(train_dataset, batch_size=32, shuffle=True)\n",
        "val_loader = DataLoader(val_dataset, batch_size=32, shuffle=False)\n",
        "\n",
        "\n",
        "# Initialize your model loss and optimizer\n",
        "\n",
        "model = LSTMClassifier(input_size=6, hidden_size=64, num_layers=1, num_classes=5)\n",
        "criterion = nn.CrossEntropyLoss()\n",
        "optimizer = torch.optim.Adam(model.parameters(), lr=0.001)\n",
        "\n",
        "# Train the model\n",
        "train(model, dataloader, val_loader, criterion, optimizer, epochs=10)\n",
        "\n",
        "# Plot confusion matrix on validation set\n",
        "plot_confusion_matrix(model, val_loader)\n",
        "\n"
      ],
      "metadata": {
        "id": "ePxkzyBD0W89",
        "outputId": "e86685be-9aaa-4436-a00d-a9b2804202fc",
        "colab": {
          "base_uri": "https://localhost:8080/",
          "height": 911
        }
      },
      "execution_count": 16,
      "outputs": [
        {
          "output_type": "stream",
          "name": "stdout",
          "text": [
            "Epoch 1/10 | Loss: 18.1129 | Accuracy: 44.57%\n",
            "Validation Loss: 1.4159 | Validation Accuracy: 52.17%\n",
            "Epoch 2/10 | Loss: 16.5361 | Accuracy: 58.15%\n",
            "Validation Loss: 1.2890 | Validation Accuracy: 56.52%\n",
            "Epoch 3/10 | Loss: 14.6968 | Accuracy: 61.14%\n",
            "Validation Loss: 1.1409 | Validation Accuracy: 56.52%\n",
            "Epoch 4/10 | Loss: 12.9506 | Accuracy: 61.41%\n",
            "Validation Loss: 1.0242 | Validation Accuracy: 58.70%\n",
            "Epoch 5/10 | Loss: 11.2272 | Accuracy: 63.32%\n",
            "Validation Loss: 0.9231 | Validation Accuracy: 60.87%\n",
            "Epoch 6/10 | Loss: 10.7051 | Accuracy: 64.40%\n",
            "Validation Loss: 0.8933 | Validation Accuracy: 59.78%\n",
            "Epoch 7/10 | Loss: 9.9942 | Accuracy: 68.48%\n",
            "Validation Loss: 0.8229 | Validation Accuracy: 67.39%\n",
            "Epoch 8/10 | Loss: 9.4610 | Accuracy: 71.20%\n",
            "Validation Loss: 0.7769 | Validation Accuracy: 69.57%\n",
            "Epoch 9/10 | Loss: 8.8365 | Accuracy: 72.83%\n",
            "Validation Loss: 0.7536 | Validation Accuracy: 68.48%\n",
            "Epoch 10/10 | Loss: 7.9834 | Accuracy: 73.10%\n",
            "Validation Loss: 0.7020 | Validation Accuracy: 75.00%\n"
          ]
        },
        {
          "output_type": "display_data",
          "data": {
            "text/plain": [
              "<Figure size 800x600 with 2 Axes>"
            ],
            "image/png": "[encoded data removed]"
          },
          "metadata": {}
        }
      ]
    },
    {
      "cell_type": "code",
      "source": [
        "print(type(y_train))\n",
        "print(y_train[:5])\n"
      ],
      "metadata": {
        "id": "TiLMMCfe50Io"
      },
      "execution_count": null,
      "outputs": []
    }
  ]
}