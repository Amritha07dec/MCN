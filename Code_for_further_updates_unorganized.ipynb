{
  "nbformat": 4,
  "nbformat_minor": 0,
  "metadata": {
    "colab": {
      "provenance": [],
      "authorship_tag": "ABX9TyNPRqBr6E1o6Lkk3/pbTPlm",
      "include_colab_link": true
    },
    "kernelspec": {
      "name": "python3",
      "display_name": "Python 3"
    },
    "language_info": {
      "name": "python"
    }
  },
  "cells": [
    {
      "cell_type": "markdown",
      "metadata": {
        "id": "view-in-github",
        "colab_type": "text"
      },
      "source": [
        "<a href=\"https://colab.research.google.com/github/Amritha07dec/MCN/blob/sample_generation/Code_for_further_updates_unorganized.ipynb\" target=\"_parent\"><img src=\"https://colab.research.google.com/assets/colab-badge.svg\" alt=\"Open In Colab\"/></a>"
      ]
    },
    {
      "cell_type": "code",
      "execution_count": null,
      "metadata": {
        "id": "6rurb7LuOzq8"
      },
      "outputs": [],
      "source": [
        "#You can delete a specific .pkl (or .pickle) file by its name using Python's os.remove() function. Here’s a clean and safe way to do it:\n",
        "\n",
        "import os\n",
        "\n",
        "folder_path = \"/path/to/your/folder\"  # replace with your actual folder path\n",
        "filename_to_delete = \"example_file.pkl\"  # replace with the exact filename\n",
        "\n",
        "file_path = os.path.join(folder_path, filename_to_delete)\n",
        "\n",
        "if os.path.exists(file_path):\n",
        "    os.remove(file_path)\n",
        "    print(f\"Deleted: {filename_to_delete}\")\n",
        "else:\n",
        "    print(f\"File not found: {filename_to_delete}\")\n"
      ]
    },
    {
      "cell_type": "code",
      "source": [
        "#Code to detect non-matching shapes:\n",
        "\n",
        "expected_timesteps = 10000  # The number of time steps you're expecting\n",
        "\n",
        "for i, ts in enumerate(time_series_list):\n",
        "    if ts.shape[0] != expected_timesteps:\n",
        "        print(f\"Sample {i}: Unexpected shape {ts.shape}\")"
      ],
      "metadata": {
        "id": "baEqWpYDP3av"
      },
      "execution_count": null,
      "outputs": []
    },
    {
      "cell_type": "code",
      "source": [
        "for i, ts in enumerate(time_series_list):\n",
        "    if ts.shape[0] != expected_timesteps:\n",
        "        print(f\"Sample {i}: shape {ts.shape}, file: {filenames[i]}\")\n"
      ],
      "metadata": {
        "id": "YuTm9dYJP7us"
      },
      "execution_count": null,
      "outputs": []
    },
    {
      "cell_type": "code",
      "source": [
        "#Optional: Store and review them later\n",
        "\n",
        "problematic_samples = [(i, ts.shape, filenames[i])\n",
        "                       for i, ts in enumerate(time_series_list)\n",
        "                       if ts.shape[0] != expected_timesteps]\n",
        "\n",
        "print(f\"Found {len(problematic_samples)} samples with unexpected shape:\")\n",
        "for idx, shape, name in problematic_samples:\n",
        "    print(f\"Index {idx}: shape {shape}, file: {name}\")\n"
      ],
      "metadata": {
        "id": "ZbtSfWlTQD7O"
      },
      "execution_count": null,
      "outputs": []
    }
  ]
}